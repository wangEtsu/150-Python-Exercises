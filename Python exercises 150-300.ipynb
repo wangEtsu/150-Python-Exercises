{
 "cells": [
  {
   "cell_type": "markdown",
   "metadata": {},
   "source": [
    "### Pynative python exercises\n",
    "https://pynative.com/python-basic-exercise-for-beginners/"
   ]
  },
  {
   "cell_type": "code",
   "execution_count": 6,
   "metadata": {},
   "outputs": [
    {
     "data": {
      "text/plain": [
       "503"
      ]
     },
     "execution_count": 6,
     "metadata": {},
     "output_type": "execute_result"
    }
   ],
   "source": [
    "# Given a two integer numbers return their product and  if the product is greater than 1000, then return their sum\n",
    "\n",
    "# My Solution\n",
    "def product_identifier(num1, num2):\n",
    "    product = num1 * num2\n",
    "    if product > 1000:\n",
    "        return num1 + num2\n",
    "    else:\n",
    "        return product\n",
    "product_identifier(3, 500)\n"
   ]
  },
  {
   "cell_type": "code",
   "execution_count": 20,
   "metadata": {},
   "outputs": [
    {
     "name": "stdout",
     "output_type": "stream",
     "text": [
      "previous num:  0 current num:  0 total:  0\n",
      "previous num:  0 current num:  1 total:  1\n",
      "previous num:  1 current num:  2 total:  3\n",
      "previous num:  2 current num:  3 total:  5\n",
      "previous num:  3 current num:  4 total:  7\n",
      "previous num:  4 current num:  5 total:  9\n",
      "previous num:  5 current num:  6 total:  11\n",
      "previous num:  6 current num:  7 total:  13\n",
      "previous num:  7 current num:  8 total:  15\n",
      "previous num:  8 current num:  9 total:  17\n"
     ]
    }
   ],
   "source": [
    "# Given a range of first 10 numbers, Iterate from start number to the end number and print the sum of the current number and previous number\n",
    "\n",
    "# My Solution\n",
    "def solution(n):\n",
    "    previous_num = 0\n",
    "    for i in range(n):\n",
    "        total = previous_num + i\n",
    "        print(\"previous num: \", previous_num, \"current num: \", i, \"total: \", total)\n",
    "        previous_num = i\n",
    "solution(10)"
   ]
  },
  {
   "cell_type": "code",
   "execution_count": 23,
   "metadata": {},
   "outputs": [
    {
     "name": "stdout",
     "output_type": "stream",
     "text": [
      "c\n",
      "n\n"
     ]
    }
   ],
   "source": [
    "# Given a string, display only those characters which are present at an even index number.\n",
    "\n",
    "# My Solution\n",
    "def solution(s):\n",
    "    counter = 0\n",
    "    for i in s:\n",
    "        if counter % 2 == 0:\n",
    "            print(i)\n",
    "        counter = counter + 1\n",
    "solution(\"cunt\")"
   ]
  },
  {
   "cell_type": "code",
   "execution_count": 7,
   "metadata": {},
   "outputs": [
    {
     "data": {
      "text/plain": [
       "'nt'"
      ]
     },
     "execution_count": 7,
     "metadata": {},
     "output_type": "execute_result"
    }
   ],
   "source": [
    "# Given a string and an integer number n, \n",
    "# remove characters from a string starting from zero up to n and return a new string\n",
    "\n",
    "# My Solution\n",
    "def solution(s, n):\n",
    "    length = len(s)\n",
    "    if n > length:\n",
    "        return False\n",
    "    else:\n",
    "        return s[n:]\n",
    "solution(\"cunt\", 2)"
   ]
  },
  {
   "cell_type": "code",
   "execution_count": 11,
   "metadata": {},
   "outputs": [
    {
     "data": {
      "text/plain": [
       "False"
      ]
     },
     "execution_count": 11,
     "metadata": {},
     "output_type": "execute_result"
    }
   ],
   "source": [
    "# Given a list of numbers, return True if first and last number of a list is same\n",
    "\n",
    "# My Solution\n",
    "def equal_or_not(target_list):\n",
    "    first = target_list[0]\n",
    "    last = target_list[len(target_list) - 1]\n",
    "    if first == last:\n",
    "        return True\n",
    "    else:\n",
    "        return False\n",
    "equal_or_not([1, 2, 3, 1, 2])"
   ]
  },
  {
   "cell_type": "code",
   "execution_count": 12,
   "metadata": {},
   "outputs": [
    {
     "name": "stdout",
     "output_type": "stream",
     "text": [
      "5\n",
      "10\n"
     ]
    }
   ],
   "source": [
    "# Given a list of numbers, Iterate it and print only those numbers which are \n",
    "# divisible of 5\n",
    "\n",
    "# My Solution\n",
    "def solution(target):\n",
    "    for i in target:\n",
    "        if i % 5 == 0:\n",
    "            print(i)\n",
    "        else:\n",
    "            pass\n",
    "solution([1, 4, 5, 10])"
   ]
  },
  {
   "cell_type": "code",
   "execution_count": 5,
   "metadata": {},
   "outputs": [
    {
     "data": {
      "text/plain": [
       "2"
      ]
     },
     "execution_count": 5,
     "metadata": {},
     "output_type": "execute_result"
    }
   ],
   "source": [
    "# Return the total count of sub-string “Emma” appears in the given string\n",
    "\n",
    "# My Solution\n",
    "def solution(s):\n",
    "    count = s.count(\"Emma\")\n",
    "    return count\n",
    "solution(\"Emma is a bitch, Emma\")"
   ]
  },
  {
   "cell_type": "code",
   "execution_count": 16,
   "metadata": {},
   "outputs": [
    {
     "name": "stdout",
     "output_type": "stream",
     "text": [
      "1\n",
      "22\n",
      "333\n",
      "4444\n",
      "55555\n"
     ]
    }
   ],
   "source": [
    "# Print the following pattern\n",
    "# 1 \n",
    "# 2 2 \n",
    "# 3 3 3 \n",
    "# 4 4 4 4 \n",
    "# 5 5 5 5 5\n",
    "\n",
    "# My Solution\n",
    "for i in range(1, 6):\n",
    "    string = \"\"\n",
    "    for j in range (0, i):\n",
    "        string = string + str(i)\n",
    "    print(string)"
   ]
  },
  {
   "cell_type": "code",
   "execution_count": 26,
   "metadata": {},
   "outputs": [
    {
     "data": {
      "text/plain": [
       "False"
      ]
     },
     "execution_count": 26,
     "metadata": {},
     "output_type": "execute_result"
    }
   ],
   "source": [
    "# Reverse a given number and return true if it is the same as the original number\n",
    "\n",
    "# My Solution\n",
    "def solution(n):\n",
    "    reversed_num = str(n)[::-1]\n",
    "    if str(n) == reversed_num:\n",
    "        return True\n",
    "    else:\n",
    "        return False\n",
    "solution(\"abad\")"
   ]
  },
  {
   "cell_type": "code",
   "execution_count": 23,
   "metadata": {},
   "outputs": [
    {
     "name": "stdout",
     "output_type": "stream",
     "text": [
      "dba\n"
     ]
    }
   ],
   "source": [
    "print(\"abd\"[::-1])"
   ]
  }
 ],
 "metadata": {
  "kernelspec": {
   "display_name": "Python 3",
   "language": "python",
   "name": "python3"
  },
  "language_info": {
   "codemirror_mode": {
    "name": "ipython",
    "version": 3
   },
   "file_extension": ".py",
   "mimetype": "text/x-python",
   "name": "python",
   "nbconvert_exporter": "python",
   "pygments_lexer": "ipython3",
   "version": "3.7.4"
  }
 },
 "nbformat": 4,
 "nbformat_minor": 2
}
