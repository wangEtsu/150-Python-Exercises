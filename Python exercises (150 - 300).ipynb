{
 "cells": [
  {
   "cell_type": "code",
   "execution_count": 3,
   "metadata": {},
   "outputs": [
    {
     "data": {
      "text/plain": [
       "True"
      ]
     },
     "execution_count": 3,
     "metadata": {},
     "output_type": "execute_result"
    }
   ],
   "source": [
    "# Question 151\n",
    "# Write a Python program to find if a given string starts with a given character using Lambda.\n",
    "\n",
    "# My Solution\n",
    "starts_with = lambda x: True if x.startswith(\"p\") else False\n",
    "starts_with(\"pact\")"
   ]
  },
  {
   "cell_type": "code",
   "execution_count": 12,
   "metadata": {},
   "outputs": [
    {
     "data": {
      "text/plain": [
       "(2020, 13, 4)"
      ]
     },
     "execution_count": 12,
     "metadata": {},
     "output_type": "execute_result"
    }
   ],
   "source": [
    "# Question 152\n",
    "# Write a Python program to extract year, month, date and time using Lambda.\n",
    "\n",
    "# My Solution\n",
    "import datetime\n",
    "now = datetime.datetime.now()\n",
    "extracts = lambda x: (x.year, x.day, x.month)\n",
    "extracts(now)"
   ]
  },
  {
   "cell_type": "code",
   "execution_count": 16,
   "metadata": {},
   "outputs": [
    {
     "data": {
      "text/plain": [
       "True"
      ]
     },
     "execution_count": 16,
     "metadata": {},
     "output_type": "execute_result"
    }
   ],
   "source": [
    "# Question 153\n",
    "# Write a Python program to check whether a given string is number or not using Lambda\n",
    "\n",
    "# My Solution\n",
    "is_number = lambda x: x.isnumeric()\n",
    "is_number(\"3\")"
   ]
  },
  {
   "cell_type": "code",
   "execution_count": 5,
   "metadata": {},
   "outputs": [
    {
     "data": {
      "text/plain": [
       "[0, 1, 1, 2, 3, 5, 8, 13, 21, 34]"
      ]
     },
     "execution_count": 5,
     "metadata": {},
     "output_type": "execute_result"
    }
   ],
   "source": [
    "# Question 154\n",
    "# Write a Python program to create Fibonacci series up to n using Lambda\n",
    "\n",
    "# My Solution\n",
    "from functools import reduce\n",
    "fibonacci = lambda n: reduce(lambda x, _: x+[x[-1]+x[-2]],\n",
    "                                range(n-2), [0, 1])\n",
    "fibonacci(10)"
   ]
  },
  {
   "cell_type": "code",
   "execution_count": 11,
   "metadata": {},
   "outputs": [
    {
     "data": {
      "text/plain": [
       "(True, [3, 5, 8, 9])"
      ]
     },
     "execution_count": 11,
     "metadata": {},
     "output_type": "execute_result"
    }
   ],
   "source": [
    "# Question 155\n",
    "# Write a Python program to find intersection of two given arrays using Lambda\n",
    "\n",
    "# My Solution\n",
    "array_one = [1, 3, 5, 6, 7]\n",
    "array_two = [3, 5, 8, 9]\n",
    "intersection_find = list(filter(lambda x: x in array_one, array_two)) \n",
    "intersection_find\n",
    "3 in array_one, array_two"
   ]
  },
  {
   "cell_type": "code",
   "execution_count": 18,
   "metadata": {},
   "outputs": [
    {
     "data": {
      "text/plain": [
       "[-2, -3, -4, -5, 2, 6, 10]"
      ]
     },
     "execution_count": 18,
     "metadata": {},
     "output_type": "execute_result"
    }
   ],
   "source": [
    "# Question 156\n",
    "# Write a Python program to rearrange positive and negative numbers in a given array using Lambda.\n",
    "\n",
    "# My Solution\n",
    "array_target = [-2, -3, -4, 2, -5, 6, 10]\n",
    "result = [x for x in array_target if x < 0] + [x for x in array_target if x > 0]\n",
    "result"
   ]
  },
  {
   "cell_type": "code",
   "execution_count": 13,
   "metadata": {},
   "outputs": [
    {
     "name": "stdout",
     "output_type": "stream",
     "text": [
      "Number of even number: 5\n",
      "Number of odd number: 3\n"
     ]
    }
   ],
   "source": [
    "# Question 157\n",
    "# Write a Python program to count the even, odd numbers in a given array of integers using Lambda.\n",
    "\n",
    "# My Solution\n",
    "array_target = [2, 4, 6, 7, 10, 12, 15, 13]\n",
    "num_even = [x for x in array_target if x % 2 == 0]\n",
    "num_odd = [x for x in array_target if x % 2 != 0]\n",
    "print(\"Number of even number:\",  len(num_even))\n",
    "print(\"Number of odd number:\", len(num_odd))"
   ]
  },
  {
   "cell_type": "code",
   "execution_count": 16,
   "metadata": {},
   "outputs": [
    {
     "data": {
      "text/plain": [
       "['Monday', 'Friday', 'Sunday']"
      ]
     },
     "execution_count": 16,
     "metadata": {},
     "output_type": "execute_result"
    }
   ],
   "source": [
    "# Question 158\n",
    "# Write a Python program to filter a given list whether the values in the list \n",
    "# are having length of 6 using Lambda.\n",
    "\n",
    "# My Solution\n",
    "weekdays = ['Monday', 'Tuesday', 'Wednesday', 'Thursday', 'Friday', 'Saturday', 'Sunday']\n",
    "length_of_six = filter(lambda x: len(x) == 6, weekdays)\n",
    "list(length_of_six)\n"
   ]
  },
  {
   "cell_type": "code",
   "execution_count": 19,
   "metadata": {},
   "outputs": [
    {
     "data": {
      "text/plain": [
       "[4, 6, 8]"
      ]
     },
     "execution_count": 19,
     "metadata": {},
     "output_type": "execute_result"
    }
   ],
   "source": [
    "# Question 159\n",
    "# Write a Python program to add two given lists using map and lambda\n",
    "\n",
    "# My Solution\n",
    "array_one = [1, 2, 3]\n",
    "array_two = [3, 4, 5]\n",
    "result = list(map(lambda x, y: x + y, array_one, array_two))\n",
    "result"
   ]
  },
  {
   "cell_type": "markdown",
   "metadata": {},
   "source": [
    "### Pynative python exercises\n",
    "https://pynative.com/python-basic-exercise-for-beginners/"
   ]
  },
  {
   "cell_type": "code",
   "execution_count": 1,
   "metadata": {},
   "outputs": [
    {
     "data": {
      "text/plain": [
       "503"
      ]
     },
     "execution_count": 1,
     "metadata": {},
     "output_type": "execute_result"
    }
   ],
   "source": [
    "# Question 160\n",
    "# Given a two integer numbers return their product and  if the product is greater than 1000, then return their sum\n",
    "\n",
    "# My Solution\n",
    "def product_identifier(num1, num2):\n",
    "    product = num1 * num2\n",
    "    if product > 1000:\n",
    "        return num1 + num2\n",
    "    else:\n",
    "        return product\n",
    "product_identifier(3, 500)\n"
   ]
  },
  {
   "cell_type": "code",
   "execution_count": 2,
   "metadata": {},
   "outputs": [
    {
     "name": "stdout",
     "output_type": "stream",
     "text": [
      "previous num:  0 current num:  0 total:  0\n",
      "previous num:  0 current num:  1 total:  1\n",
      "previous num:  1 current num:  2 total:  3\n",
      "previous num:  2 current num:  3 total:  5\n",
      "previous num:  3 current num:  4 total:  7\n",
      "previous num:  4 current num:  5 total:  9\n",
      "previous num:  5 current num:  6 total:  11\n",
      "previous num:  6 current num:  7 total:  13\n",
      "previous num:  7 current num:  8 total:  15\n",
      "previous num:  8 current num:  9 total:  17\n"
     ]
    }
   ],
   "source": [
    "# Question 161\n",
    "# Given a range of first 10 numbers, Iterate from start number to the end number and print the sum of the current number and previous number\n",
    "\n",
    "# My Solution\n",
    "def solution(n):\n",
    "    previous_num = 0\n",
    "    for i in range(n):\n",
    "        total = previous_num + i\n",
    "        print(\"previous num: \", previous_num, \"current num: \", i, \"total: \", total)\n",
    "        previous_num = i\n",
    "solution(10)"
   ]
  },
  {
   "cell_type": "code",
   "execution_count": 3,
   "metadata": {},
   "outputs": [
    {
     "name": "stdout",
     "output_type": "stream",
     "text": [
      "c\n",
      "n\n"
     ]
    }
   ],
   "source": [
    "# Question 162\n",
    "# Given a string, display only those characters which are present at an even index number.\n",
    "\n",
    "# My Solution\n",
    "def solution(s):\n",
    "    counter = 0\n",
    "    for i in s:\n",
    "        if counter % 2 == 0:\n",
    "            print(i)\n",
    "        counter = counter + 1\n",
    "solution(\"cunt\")"
   ]
  },
  {
   "cell_type": "code",
   "execution_count": null,
   "metadata": {},
   "outputs": [],
   "source": [
    "# Question 163\n",
    "# Given a string and an integer number n, \n",
    "# remove characters from a string starting from zero up to n and return a new string\n",
    "\n",
    "# My Solution\n",
    "def solution(s, n):\n",
    "    length = len(s)\n",
    "    if n > length:\n",
    "        return False\n",
    "    else:\n",
    "        return s[n:]\n",
    "solution(\"cunt\", 2)"
   ]
  },
  {
   "cell_type": "code",
   "execution_count": null,
   "metadata": {},
   "outputs": [],
   "source": [
    "# Question 164\n",
    "# Given a list of numbers, return True if first and last number of a list is same\n",
    "\n",
    "# My Solution\n",
    "def equal_or_not(target_list):\n",
    "    first = target_list[0]\n",
    "    last = target_list[len(target_list) - 1]\n",
    "    if first == last:\n",
    "        return True\n",
    "    else:\n",
    "        return False\n",
    "equal_or_not([1, 2, 3, 1, 2])"
   ]
  },
  {
   "cell_type": "code",
   "execution_count": null,
   "metadata": {},
   "outputs": [],
   "source": [
    "# Question 165\n",
    "# Given a list of numbers, Iterate it and print only those numbers which are \n",
    "# divisible of 5\n",
    "\n",
    "# My Solution\n",
    "def solution(target):\n",
    "    for i in target:\n",
    "        if i % 5 == 0:\n",
    "            print(i)\n",
    "        else:\n",
    "            pass\n",
    "solution([1, 4, 5, 10])"
   ]
  },
  {
   "cell_type": "code",
   "execution_count": null,
   "metadata": {},
   "outputs": [],
   "source": [
    "# Question 166\n",
    "# Return the total count of sub-string “Emma” appears in the given string\n",
    "\n",
    "# My Solution\n",
    "def solution(s):\n",
    "    count = s.count(\"Emma\")\n",
    "    return count\n",
    "solution(\"Emma is a bitch, Emma\")"
   ]
  },
  {
   "cell_type": "code",
   "execution_count": 4,
   "metadata": {},
   "outputs": [
    {
     "name": "stdout",
     "output_type": "stream",
     "text": [
      "1\n",
      "22\n",
      "333\n",
      "4444\n",
      "55555\n"
     ]
    }
   ],
   "source": [
    "# Question 167\n",
    "# Print the following pattern\n",
    "# 1 \n",
    "# 2 2 \n",
    "# 3 3 3 \n",
    "# 4 4 4 4 \n",
    "# 5 5 5 5 5\n",
    "\n",
    "# My Solution\n",
    "for i in range(1, 6):\n",
    "    string = \"\"\n",
    "    for j in range (0, i):\n",
    "        string = string + str(i)\n",
    "    print(string)"
   ]
  },
  {
   "cell_type": "code",
   "execution_count": null,
   "metadata": {},
   "outputs": [],
   "source": [
    "# Question 168\n",
    "# Reverse a given number and return true if it is the same as the original number\n",
    "\n",
    "# My Solution\n",
    "def solution(n):\n",
    "    reversed_num = str(n)[::-1]\n",
    "    if str(n) == reversed_num:\n",
    "        return True\n",
    "    else:\n",
    "        return False\n",
    "solution(\"abad\")"
   ]
  },
  {
   "cell_type": "code",
   "execution_count": 5,
   "metadata": {},
   "outputs": [
    {
     "name": "stdout",
     "output_type": "stream",
     "text": [
      "1 2 3 4 5 6 7 8 9 10 \n",
      "2 4 6 8 10 12 14 16 18 20 \n",
      "3 6 9 12 15 18 21 24 27 30 \n",
      "4 8 12 16 20 24 28 32 36 40 \n",
      "5 10 15 20 25 30 35 40 45 50 \n",
      "6 12 18 24 30 36 42 48 54 60 \n",
      "7 14 21 28 35 42 49 56 63 70 \n",
      "8 16 24 32 40 48 56 64 72 80 \n",
      "9 18 27 36 45 54 63 72 81 90 \n",
      "10 20 30 40 50 60 70 80 90 100 \n"
     ]
    }
   ],
   "source": [
    "# Question 169\n",
    "# Print multiplication table form 1 to 10\n",
    "# 1  2 3 4 5 6 7 8 9 10 \t\t\n",
    "# 2  4 6 8 10 12 14 16 18 20 \t\t\n",
    "# 3  6 9 12 15 18 21 24 27 30 \t\t\n",
    "# 4  8 12 16 20 24 28 32 36 40 \t\t\n",
    "# 5  10 15 20 25 30 35 40 45 50 \t\t\n",
    "# 6  12 18 24 30 36 42 48 54 60 \t\t\n",
    "# 7  14 21 28 35 42 49 56 63 70 \t\t\n",
    "# 8  16 24 32 40 48 56 64 72 80 \t\t\n",
    "# 9  18 27 36 45 54 63 72 81 90 \t\t\n",
    "# 10 20 30 40 50 60 70 80 90 100 \n",
    "\n",
    "for i in range(1, 11):\n",
    "    row = \"\"\n",
    "    for j in range(1, 11):\n",
    "        row = row + str(i * j) + \" \"\n",
    "    print(row)"
   ]
  },
  {
   "cell_type": "code",
   "execution_count": 10,
   "metadata": {},
   "outputs": [
    {
     "name": "stdout",
     "output_type": "stream",
     "text": [
      "* * * * * \n",
      "* * * * \n",
      "* * * \n",
      "* * \n",
      "* \n",
      "\n"
     ]
    }
   ],
   "source": [
    "# Question 170\n",
    "# Print downward Half-Pyramid Pattern with Star (asterisk)\n",
    "# * * * * *  \n",
    "# * * * *  \n",
    "# * * *  \n",
    "# * *  \n",
    "# *\n",
    "for i in range (1,7):\n",
    "    row = \"\"\n",
    "    for j in range (1, 7 - i):\n",
    "        row = row + \"*\" + \" \"\n",
    "    print(row)"
   ]
  },
  {
   "cell_type": "code",
   "execution_count": 17,
   "metadata": {},
   "outputs": [
    {
     "data": {
      "text/plain": [
       "8"
      ]
     },
     "execution_count": 17,
     "metadata": {},
     "output_type": "execute_result"
    }
   ],
   "source": [
    "# Question 171\n",
    "# Write a function called exponent(base, exp) that returns an int value of base raises to the power of exp.\n",
    "# Note here exp is a non-negative integer, and the base is an integer.\n",
    "\n",
    "# Expected Output:\n",
    "\n",
    "# Case 1:\n",
    "\n",
    "# base = 2\n",
    "# exponent = 5\n",
    "\n",
    "# 2 raises to the power of 5 is: 32 i.e. (2 *2 * 2 *2 *2 = 32)\n",
    "\n",
    "# My Solution\n",
    "def exponent(base, exp):\n",
    "    result = base\n",
    "    for i in range(1, exp):\n",
    "        result = result * base\n",
    "    return result\n",
    "exponent(2, 3)"
   ]
  },
  {
   "cell_type": "markdown",
   "metadata": {},
   "source": [
    "### Pynative Loop exercises\n",
    "https://pynative.com/python-if-else-and-for-loop-exercise-with-solutions/"
   ]
  },
  {
   "cell_type": "code",
   "execution_count": 20,
   "metadata": {
    "scrolled": true
   },
   "outputs": [
    {
     "name": "stdout",
     "output_type": "stream",
     "text": [
      "0\n",
      "1\n",
      "2\n",
      "3\n",
      "4\n",
      "5\n",
      "6\n",
      "7\n",
      "8\n",
      "9\n",
      "10\n"
     ]
    }
   ],
   "source": [
    "# Question 172\n",
    "# Print First 10 natural numbers using while loop\n",
    "\n",
    "# My Solution\n",
    "i = 0\n",
    "while i < 11:\n",
    "    print(i)\n",
    "    i = i + 1"
   ]
  },
  {
   "cell_type": "code",
   "execution_count": 25,
   "metadata": {},
   "outputs": [
    {
     "name": "stdout",
     "output_type": "stream",
     "text": [
      "1\n",
      "12\n",
      "123\n",
      "1234\n",
      "12345\n"
     ]
    }
   ],
   "source": [
    "# Question 173\n",
    "# Print the following pattern\n",
    "# 1 \n",
    "# 1 2 \n",
    "# 1 2 3 \n",
    "# 1 2 3 4 \n",
    "# 1 2 3 4 5\n",
    "\n",
    "# My Solution\n",
    "for i in range(1, 6):\n",
    "    row = \"\"\n",
    "    for j in range(1, i + 1):\n",
    "        row = row + str(j)\n",
    "    print(row)"
   ]
  },
  {
   "cell_type": "code",
   "execution_count": 29,
   "metadata": {},
   "outputs": [
    {
     "name": "stdout",
     "output_type": "stream",
     "text": [
      "1\n",
      "2\n",
      "3\n",
      "4\n",
      "5\n",
      "6\n",
      "7\n",
      "8\n",
      "9\n",
      "10\n"
     ]
    },
    {
     "data": {
      "text/plain": [
       "55"
      ]
     },
     "execution_count": 29,
     "metadata": {},
     "output_type": "execute_result"
    }
   ],
   "source": [
    "# Question 174\n",
    "# Accept number from user and calculate the sum of all number between 1 and given number\n",
    "# For example user given 10 so the output should be 55\n",
    "\n",
    "# My Solution\n",
    "def solution(given):\n",
    "    result = 0\n",
    "    for i in range(1, given + 1):\n",
    "        print(i)\n",
    "        result = result + i\n",
    "    return result\n",
    "solution(10)"
   ]
  },
  {
   "cell_type": "code",
   "execution_count": 31,
   "metadata": {},
   "outputs": [
    {
     "name": "stdout",
     "output_type": "stream",
     "text": [
      "2\n",
      "4\n",
      "6\n",
      "8\n",
      "10\n",
      "12\n",
      "14\n",
      "16\n",
      "18\n",
      "20\n"
     ]
    }
   ],
   "source": [
    "# Question 175\n",
    "# Print multiplication table of given number\n",
    "\n",
    "# My Solution\n",
    "def solution(given):\n",
    "    for i in range(1, 11):\n",
    "        print(given * i)\n",
    "solution(2)"
   ]
  },
  {
   "cell_type": "code",
   "execution_count": 35,
   "metadata": {},
   "outputs": [
    {
     "name": "stdout",
     "output_type": "stream",
     "text": [
      "15\n",
      "55\n",
      "75\n",
      "150\n"
     ]
    }
   ],
   "source": [
    "# Question 176\n",
    "# Given a list iterate it and display numbers which are divisible\n",
    "# by 5 and if you find number greater than 150 stop the loop iteration\n",
    "\n",
    "# list1 = [12, 15, 32, 42, 55, 75, 122, 132, 150, 180, 200]\n",
    "\n",
    "# My Solution\n",
    "def solution(target_list):\n",
    "    for i in target_list:\n",
    "        if i > 150:\n",
    "            break\n",
    "        else:\n",
    "            if i % 5 == 0:\n",
    "                print(i)\n",
    "list1 = [12, 15, 32, 42, 55, 75, 122, 132, 150, 180, 200]\n",
    "solution(list1)"
   ]
  },
  {
   "cell_type": "code",
   "execution_count": 3,
   "metadata": {},
   "outputs": [
    {
     "data": {
      "text/plain": [
       "6"
      ]
     },
     "execution_count": 3,
     "metadata": {},
     "output_type": "execute_result"
    }
   ],
   "source": [
    "# Question 177\n",
    "# Given a number count the total number of digits in a number\n",
    "# For example, the number is 75869, so the output should be 5.\n",
    "\n",
    "# My Solution\n",
    "def digit_count(n):\n",
    "    return len(str(n))\n",
    "digit_count(123456)"
   ]
  },
  {
   "cell_type": "code",
   "execution_count": 27,
   "metadata": {},
   "outputs": [
    {
     "name": "stdout",
     "output_type": "stream",
     "text": [
      "5 4 3 2 1 \n",
      "4 3 2 1 \n",
      "3 2 1 \n",
      "2 1 \n",
      "1 \n"
     ]
    }
   ],
   "source": [
    "# Question 178\n",
    "# Print the following pattern using for loop\n",
    "# 5 4 3 2 1 \n",
    "# 4 3 2 1 \n",
    "# 3 2 1 \n",
    "# 2 1 \n",
    "# 1\n",
    "\n",
    "# My Solution\n",
    "for i in range(1, 6):\n",
    "    row = \"\"\n",
    "    for j in range(6 - i, 0, -1):\n",
    "        row += str(j) + \" \"\n",
    "    print(row)\n",
    "\n",
    "# 5 4 3 2 1\n"
   ]
  },
  {
   "cell_type": "markdown",
   "metadata": {},
   "source": [
    "### range(start, end, -1) literate through decending order"
   ]
  },
  {
   "cell_type": "code",
   "execution_count": 41,
   "metadata": {},
   "outputs": [
    {
     "name": "stdout",
     "output_type": "stream",
     "text": [
      "50\n",
      "40\n",
      "30\n",
      "20\n",
      "10\n"
     ]
    }
   ],
   "source": [
    "# Question 179\n",
    "# Reverse the following list using for loop\n",
    "# list1 = [10, 20, 30, 40, 50]\n",
    "\n",
    "# My Solution\n",
    "def list_reverse(target):\n",
    "    result = []\n",
    "    for i in range(len(target)):\n",
    "        result.append(0)\n",
    "    index_count = 0\n",
    "    for i in target:\n",
    "        result[len(target) - index_count - 1] = i\n",
    "        index_count += 1\n",
    "    return result\n",
    "list1 = [10, 20, 30, 40, 50]\n",
    "list_reverse(list1)\n",
    "\n",
    "# Their solution\n",
    "# list1 = [10, 20, 30, 40, 50]\n",
    "# start = len(list1) - 1\n",
    "# stop = -1\n",
    "# step = -1\n",
    "# for i in range(start, stop, step):\n",
    "#     print(list1[i])"
   ]
  },
  {
   "cell_type": "code",
   "execution_count": 42,
   "metadata": {},
   "outputs": [
    {
     "name": "stdout",
     "output_type": "stream",
     "text": [
      "-10\n",
      "-9\n",
      "-8\n",
      "-7\n",
      "-6\n",
      "-5\n",
      "-4\n",
      "-3\n",
      "-2\n",
      "-1\n"
     ]
    }
   ],
   "source": [
    "# Question 180\n",
    "# Display -10 to -1 using for loop\n",
    "\n",
    "# My Solution\n",
    "for i in range (-10, 0, 1):\n",
    "    print(i)"
   ]
  },
  {
   "cell_type": "code",
   "execution_count": 44,
   "metadata": {},
   "outputs": [
    {
     "name": "stdout",
     "output_type": "stream",
     "text": [
      "0\n",
      "1\n",
      "2\n",
      "3\n",
      "4\n",
      "done\n"
     ]
    }
   ],
   "source": [
    "# Question 181\n",
    "# Display a message “Done” after successful execution of for loop\n",
    "\n",
    "# My Solution\n",
    "for i in range(5):\n",
    "    print(i)\n",
    "else:\n",
    "    print(\"done\")"
   ]
  },
  {
   "cell_type": "markdown",
   "metadata": {},
   "source": [
    "### Pynative function exercises\n",
    "https://pynative.com/python-functions-exercise-with-solutions/"
   ]
  },
  {
   "cell_type": "code",
   "execution_count": 1,
   "metadata": {},
   "outputs": [
    {
     "name": "stdout",
     "output_type": "stream",
     "text": [
      "yue 25\n"
     ]
    }
   ],
   "source": [
    "# Question 182\n",
    "# Create a function that can accept two arguments name and age and print its value\n",
    "\n",
    "# My Solution\n",
    "def solution(name, age):\n",
    "    print(name, age)\n",
    "solution(\"yue\", 25)"
   ]
  },
  {
   "cell_type": "code",
   "execution_count": 5,
   "metadata": {},
   "outputs": [
    {
     "name": "stdout",
     "output_type": "stream",
     "text": [
      "20\n",
      "30\n",
      "40\n"
     ]
    }
   ],
   "source": [
    "# Question 183\n",
    "# Write a function func1() such that it can accept a variable length of  argument and print all arguments value\n",
    "\n",
    "# My Solution\n",
    "def solution(*argv):\n",
    "    for i in argv:\n",
    "        print(i)\n",
    "solution(20, 30, 40)"
   ]
  },
  {
   "cell_type": "code",
   "execution_count": 7,
   "metadata": {},
   "outputs": [
    {
     "data": {
      "text/plain": [
       "(5, -1)"
      ]
     },
     "execution_count": 7,
     "metadata": {},
     "output_type": "execute_result"
    }
   ],
   "source": [
    "# Question 184\n",
    "# Write a function calculation() such that it can accept two variables and \n",
    "# calculate the addition and subtraction of it. And also it must return both addition and subtraction in a single return call\n",
    "\n",
    "# My Solution\n",
    "def solution(num1, num2):\n",
    "    addition = num1 + num2\n",
    "    subtraction = num1 - num2\n",
    "    return addition, subtraction\n",
    "solution(2, 3)"
   ]
  },
  {
   "cell_type": "code",
   "execution_count": 10,
   "metadata": {},
   "outputs": [
    {
     "name": "stdout",
     "output_type": "stream",
     "text": [
      "Yue 3\n",
      "Bob 9000\n"
     ]
    }
   ],
   "source": [
    "# Question 185\n",
    "# Create a function showEmployee() in such a way that it should accept employee name, \n",
    "# and it’s salary and display both, and if the salary is missing in function call it should show it as 9000\n",
    "\n",
    "# My Solution\n",
    "def solution(name, salary=9000):\n",
    "    print(name, salary)\n",
    "solution(\"Yue\", 3)\n",
    "solution(\"Bob\")"
   ]
  },
  {
   "cell_type": "code",
   "execution_count": 12,
   "metadata": {},
   "outputs": [
    {
     "data": {
      "text/plain": [
       "10"
      ]
     },
     "execution_count": 12,
     "metadata": {},
     "output_type": "execute_result"
    }
   ],
   "source": [
    "# Question 186\n",
    "# Create an inner function to calculate the addition in the following way\n",
    "#     Create an outer function that will accept two parameters a and b\n",
    "#     Create an inner function inside an outer function that will calculate the addition of a and b\n",
    "#     At last, an outer function will add 5 into addition and return it\n",
    "# My Solution\n",
    "def outer(a, b):\n",
    "    def inner(a, b):\n",
    "        return a + b\n",
    "    return inner(a, b) + 5\n",
    "outer(2, 3)"
   ]
  },
  {
   "cell_type": "code",
   "execution_count": 2,
   "metadata": {},
   "outputs": [
    {
     "data": {
      "text/plain": [
       "55"
      ]
     },
     "execution_count": 2,
     "metadata": {},
     "output_type": "execute_result"
    }
   ],
   "source": [
    "# Question 187\n",
    "# Write a recursive function to calculate the sum of numbers from 0 to 10\n",
    "\n",
    "# My Solution\n",
    "def recrusive(n):\n",
    "    if n:\n",
    "        return n + recrusive(n - 1)\n",
    "    else:\n",
    "        return 0\n",
    "recrusive(10)"
   ]
  },
  {
   "cell_type": "code",
   "execution_count": 5,
   "metadata": {},
   "outputs": [
    {
     "name": "stdout",
     "output_type": "stream",
     "text": [
      "Emma 29\n"
     ]
    }
   ],
   "source": [
    "# Question 188\n",
    "# Assign a different name to function and call it through the new name\n",
    "\n",
    "# My Solution\n",
    "# Below is the function displayStudent(name, age). Assign a new name showStudent(name, age)  to it and call through the new name\n",
    "\n",
    "# def displayStudent(name, age):\n",
    "#     print(name, age)\n",
    "\n",
    "# displayStudent(\"Emma\", 26)\n",
    "\n",
    "# My Solution\n",
    "def displayStudent(name, age):\n",
    "    print(name, age)\n",
    "showStudent = displayStudent \n",
    "showStudent(\"Emma\", 29)"
   ]
  },
  {
   "cell_type": "code",
   "execution_count": 6,
   "metadata": {},
   "outputs": [
    {
     "data": {
      "text/plain": [
       "[4, 6, 8, 10, 12, 14, 16, 18, 20, 22, 24, 26, 28, 30]"
      ]
     },
     "execution_count": 6,
     "metadata": {},
     "output_type": "execute_result"
    }
   ],
   "source": [
    "# Question 189\n",
    "# Generate a Python list of all the even numbers between 4 to 30\n",
    "\n",
    "# My Solution\n",
    "def generator(start, stop):\n",
    "    result = []\n",
    "    for i in range(start, stop + 1):\n",
    "        if i % 2 == 0:\n",
    "            result.append(i)\n",
    "    return result\n",
    "generator(4, 30)\n",
    "   \n",
    "# Their Solution\n",
    "print(list( range(4, 30, 2)))"
   ]
  },
  {
   "cell_type": "code",
   "execution_count": 8,
   "metadata": {},
   "outputs": [
    {
     "data": {
      "text/plain": [
       "24"
      ]
     },
     "execution_count": 8,
     "metadata": {},
     "output_type": "execute_result"
    }
   ],
   "source": [
    "# Question 190\n",
    "# Return the largest item from the given list\n",
    "\n",
    "# aList = [4, 6, 8, 24, 12, 2]\n",
    "\n",
    "# Expected Output:\n",
    "\n",
    "# 24\n",
    "\n",
    "# My Solution\n",
    "def return_largest(target):\n",
    "    largest = 0\n",
    "    for i in target:\n",
    "        if i >= largest:\n",
    "            largest = i\n",
    "    return largest\n",
    "aList = [4, 6, 8, 24, 12, 2]\n",
    "return_largest(aList)"
   ]
  },
  {
   "cell_type": "markdown",
   "metadata": {},
   "source": [
    "### Pynative data structure\n",
    "https://pynative.com/python-data-structure-exercise-for-beginners/"
   ]
  },
  {
   "cell_type": "code",
   "execution_count": 14,
   "metadata": {},
   "outputs": [
    {
     "data": {
      "text/plain": [
       "[6, 12, 18, 4, 12, 20, 28]"
      ]
     },
     "execution_count": 14,
     "metadata": {},
     "output_type": "execute_result"
    }
   ],
   "source": [
    "# Question 191\n",
    "# Given a two list. Create a third list by picking an odd-index element from the first list and even index elements from second.\n",
    "\n",
    "# For Example:\n",
    "\n",
    "# listOne = [3, 6, 9, 12, 15, 18, 21]\n",
    "# listTwo = [4, 8, 12, 16, 20, 24, 28]\n",
    "\n",
    "# Expected Output:\n",
    "\n",
    "# Element at odd-index positions from list one\n",
    "# [6, 12, 18]\n",
    "# Element at even-index positions from list two\n",
    "# [4, 12, 20, 28]\n",
    "# Printing Final third list\n",
    "# [6, 12, 18, 4, 12, 20, 28]\n",
    "\n",
    "\n",
    "# My Solution\n",
    "def list_merge(list1, list2):\n",
    "    result = []\n",
    "    for idx, val in enumerate(list1):\n",
    "        if idx % 2 != 0:\n",
    "            result.append(val)\n",
    "    for idx, val in enumerate(list2):\n",
    "        if idx % 2 == 0:\n",
    "            result.append(val)\n",
    "    return result\n",
    "list1 = [3, 6, 9, 12, 15, 18, 21]\n",
    "list2 = [4, 8, 12, 16, 20, 24, 28]\n",
    "\n",
    "list_merge(list1, list2)\n",
    "\n",
    "# Their solution\n",
    "# listOne = [3, 6, 9, 12, 15, 18, 21]\n",
    "# listTwo = [4, 8, 12, 16, 20, 24, 28]\n",
    "# listThree = list()\n",
    "\n",
    "# oddElements = listOne[1::2]\n",
    "# print(\"Element at odd-index positions from list one\")\n",
    "# print(oddElements)\n",
    "\n",
    "# EvenElement = listTwo[0::2]\n",
    "# print(\"Element at even-index positions from list two\")\n",
    "# print(EvenElement)\n",
    "\n",
    "# print(\"Printing Final third list\")\n",
    "# listThree.extend(oddElements)\n",
    "# listThree.extend(EvenElement)\n",
    "# print(listThree)"
   ]
  },
  {
   "cell_type": "code",
   "execution_count": 21,
   "metadata": {},
   "outputs": [
    {
     "data": {
      "text/plain": [
       "[34, 54, 11, 67, 89, 43, 94, 11]"
      ]
     },
     "execution_count": 21,
     "metadata": {},
     "output_type": "execute_result"
    }
   ],
   "source": [
    "# Question 192\n",
    "# Given an input list removes the element at index 4 and add it to the 2nd position and also, at the end of the list\n",
    "# For example: List = [54, 44, 27, 79, 91, 41]\n",
    "\n",
    "# Expected Output:\n",
    "\n",
    "# Original list  [34, 54, 67, 89, 11, 43, 94]\n",
    "# List After removing element at index 4  [34, 54, 67, 89, 43, 94]\n",
    "# List after Adding element at index 2  [34, 54, 11, 67, 89, 43, 94]\n",
    "# List after Adding element at last  [34, 54, 11, 67, 89, 43, 94, 11]\n",
    "\n",
    "# My Solution\n",
    "# def solution(target):\n",
    "#     length = len(target)\n",
    "#     fifth = target[4]\n",
    "#     target.pop(4)\n",
    "#     result = []\n",
    "#     print(target)\n",
    "#     for index, value in enumerate(target):\n",
    "#         if index == 2:\n",
    "#             result.append(fifth)\n",
    "#             result.append(target[2])\n",
    "#         else:\n",
    "#             result.append(value)\n",
    "#     result.append(fifth)\n",
    "#     return result\n",
    "# original = [34, 54, 67, 89, 11, 43, 94]\n",
    "# solution(original)\n",
    "\n",
    "# Their Sotlution\n",
    "original = [34, 54, 67, 89, 11, 43, 94]\n",
    "fifth = original.pop(4)\n",
    "original.insert(2, fifth)\n",
    "original.append(fifth)\n",
    "original"
   ]
  },
  {
   "cell_type": "code",
   "execution_count": 41,
   "metadata": {},
   "outputs": [
    {
     "name": "stdout",
     "output_type": "stream",
     "text": [
      "[8, 45, 11]\n",
      "[23, 14, 12]\n",
      "[78, 45, 89]\n"
     ]
    }
   ],
   "source": [
    "# Question 193\n",
    "# Given a list slice it into a 3 equal chunks and rever each list\n",
    "\n",
    "# For Example: sampleList = [11, 45, 8, 23, 14, 12, 78, 45, 89]\n",
    "\n",
    "# Expected Outcome:\n",
    "\n",
    "# Original list  [11, 45, 8, 23, 14, 12, 78, 45, 89]\n",
    "# Chunk  1 [11, 45, 8]\n",
    "# After reversing it  [8, 45, 11]\n",
    "# Chunk  2 [23, 14, 12]\n",
    "# After reversing it  [12, 14, 23]\n",
    "# Chunk  3 [78, 45, 89]\n",
    "# After reversing it  [89, 45, 78]\n",
    "\n",
    "# My Solution\n",
    "sampleList = [11, 45, 8, 23, 14, 12, 78, 45, 89]\n",
    "length = len(sampleList)\n",
    "first_split = int(length/3)\n",
    "second_split = int(length*2/3)\n",
    "chunk1 = sampleList[:first_split]\n",
    "chunk2 = sampleList[first_split:second_split]\n",
    "chunk3 = sampleList[second_split:length]\n",
    "print(list(reversed(chunk1)))\n",
    "print(chunk2)\n",
    "print(chunk3)"
   ]
  },
  {
   "cell_type": "code",
   "execution_count": 44,
   "metadata": {},
   "outputs": [
    {
     "data": {
      "text/plain": [
       "{11: 2, 45: 3, 8: 1, 23: 2, 89: 1}"
      ]
     },
     "execution_count": 44,
     "metadata": {},
     "output_type": "execute_result"
    }
   ],
   "source": [
    "# Question 194\n",
    "# Given a list iterate it and count the occurrence of each element and create a dictionary to show the count of each element\n",
    "\n",
    "# Expected Output:\n",
    "\n",
    "# Original list  [11, 45, 8, 11, 23, 45, 23, 45, 89]\n",
    "# Printing count of each item   {11: 2, 45: 3, 8: 1, 23: 2, 89: 1}\n",
    "\n",
    "# My Solution\n",
    "def list_count(target):\n",
    "    frequencies = {}\n",
    "    for i in target:\n",
    "        if i in frequencies:\n",
    "            frequencies[i] += 1\n",
    "        else:\n",
    "            frequencies[i] = 1\n",
    "    return frequencies\n",
    "original = [11, 45, 8, 11, 23, 45, 23, 45, 89]\n",
    "list_count(original)"
   ]
  },
  {
   "cell_type": "code",
   "execution_count": 46,
   "metadata": {},
   "outputs": [
    {
     "data": {
      "text/plain": [
       "{(2, 4), (3, 9), (4, 16), (5, 25), (6, 36), (7, 49), (8, 64)}"
      ]
     },
     "execution_count": 46,
     "metadata": {},
     "output_type": "execute_result"
    }
   ],
   "source": [
    "# Question 195\n",
    "# Given a two list of equal size create a set such that it shows the element from both lists in the pair\n",
    "\n",
    "# Expected Output:\n",
    "\n",
    "# First List  [2, 3, 4, 5, 6, 7, 8]\n",
    "# Second List  [4, 9, 16, 25, 36, 49, 64]\n",
    "# Result is  {(6, 36), (8, 64), (4, 16), (5, 25), (3, 9), (7, 49), (2, 4)}\n",
    "\n",
    "# My Solution\n",
    "first = [2, 3, 4, 5, 6, 7, 8]\n",
    "second = [4, 9, 16, 25, 36, 49, 64]\n",
    "result = zip(first,second)\n",
    "set(result)"
   ]
  },
  {
   "cell_type": "code",
   "execution_count": 50,
   "metadata": {},
   "outputs": [
    {
     "data": {
      "text/plain": [
       "{23, 42, 65, 78}"
      ]
     },
     "execution_count": 50,
     "metadata": {},
     "output_type": "execute_result"
    }
   ],
   "source": [
    "# Question 196\n",
    "# Given a following two sets find the intersection and remove those elements from the first set\n",
    "\n",
    "# Expected Output:\n",
    "\n",
    "# First Set  {65, 42, 78, 83, 23, 57, 29}\n",
    "# Second Set  {67, 73, 43, 48, 83, 57, 29}\n",
    "\n",
    "# Intersection is  {57, 83, 29}\n",
    "# First Set after removing common element  {65, 42, 78, 23}\n",
    "\n",
    "# My Solution\n",
    "first = {65, 42, 78, 83, 23, 57, 29}\n",
    "second = {67, 73, 43, 48, 83, 57, 29}\n",
    "intersection = first.intersection(second)\n",
    "result = {x for x in first if x not in intersection}\n",
    "result"
   ]
  },
  {
   "cell_type": "code",
   "execution_count": 6,
   "metadata": {},
   "outputs": [
    {
     "name": "stdout",
     "output_type": "stream",
     "text": [
      "first is subset of second\n"
     ]
    },
    {
     "data": {
      "text/plain": [
       "{22, 48, 53, 93}"
      ]
     },
     "execution_count": 6,
     "metadata": {},
     "output_type": "execute_result"
    }
   ],
   "source": [
    "# Question 197\n",
    "# Given two sets, Checks if One Set is Subset or superset of Another Set. if the subset is found delete all elements from that set\n",
    "\n",
    "# For Example:\n",
    "\n",
    "# firstSet = {27, 43, 34}\n",
    "# secondSet = {34, 93, 22, 27, 43, 53, 48}\n",
    "\n",
    "# Expected Output:\n",
    "\n",
    "# First Set  {57, 83, 29}\n",
    "# Second Set  {67, 73, 43, 48, 83, 57, 29}\n",
    "\n",
    "# First set is subset of second set - True\n",
    "# Second set is subset of First set -  False\n",
    "\n",
    "# First set is Super set of second set -  False\n",
    "# Second set is Super set of First set -  True\n",
    "\n",
    "# First Set  set()\n",
    "# Second Set  {67, 73, 43, 48, 83, 57, 29}\n",
    "\n",
    "# My Solution\n",
    "firstSet = {27, 43, 34}\n",
    "secondSet = {34, 93, 22, 27, 43, 53, 48}\n",
    "def sub_detect(set1, set2):\n",
    "    if firstSet.issubset(secondSet):\n",
    "        print(\"first is subset of second\")\n",
    "        return secondSet - firstSet\n",
    "    elif secondSet.issubset(firstSet):\n",
    "        print(\"second is subset of first\")\n",
    "        return firstSet - secondSet\n",
    "    else:\n",
    "        return \"neither\"\n",
    "sub_detect(firstSet, secondSet)"
   ]
  },
  {
   "cell_type": "code",
   "execution_count": 11,
   "metadata": {},
   "outputs": [
    {
     "data": {
      "text/plain": [
       "'after removing: [47, 69, 76, 95, 97]'"
      ]
     },
     "execution_count": 11,
     "metadata": {},
     "output_type": "execute_result"
    }
   ],
   "source": [
    "# Question 198\n",
    "# Iterate a given list and Check if a given element already exists in a dictionary as a key’s value if not delete it from the list\n",
    "\n",
    "# Given:\n",
    "\n",
    "# rollNumber = [47, 64, 69, 37, 76, 83, 95, 97]\n",
    "# sampleDict ={'Jhon':47, 'Emma':69, 'Kelly':76, 'Jason':97}\n",
    "\n",
    "# Expected Outcome:\n",
    "\n",
    "# after removing unwanted elemnts from list [47, 69, 76, 97]\n",
    "\n",
    "# My Solution\n",
    "def solution(target_list, target_dict):\n",
    "    for i in target_list:\n",
    "        if i not in target_dict.values():\n",
    "            target_list.remove(i)\n",
    "    return \"after removing: \" + str(target_list)\n",
    "\n",
    "rollNumber = [47, 64, 69, 37, 76, 83, 95, 97]\n",
    "sampleDict ={'Jhon':47, 'Emma':69, 'Kelly':76, 'Jason':97}\n",
    "solution(rollNumber, sampleDict)\n"
   ]
  },
  {
   "cell_type": "code",
   "execution_count": 14,
   "metadata": {},
   "outputs": [
    {
     "data": {
      "text/plain": [
       "[44, 47, 52, 53, 54]"
      ]
     },
     "execution_count": 14,
     "metadata": {},
     "output_type": "execute_result"
    }
   ],
   "source": [
    "# Question 199\n",
    "# Given a dictionary get all values from the dictionary and add it in a list but don’t add duplicates\n",
    "\n",
    "# Given:\n",
    "\n",
    "# speed ={'jan':47, 'feb':52, 'march':47, 'April':44, 'May':52, 'June':53, 'july':54, 'Aug':44, 'Sept':54}\n",
    "\n",
    "# Expected Outcome: [47, 52, 44, 53, 54]\n",
    "\n",
    "# My Solution\n",
    "def solution(target):\n",
    "    return list(set(target.values()))\n",
    "speed ={'jan':47, 'feb':52, 'march':47, 'April':44, 'May':52, 'June':53, 'july':54, 'Aug':44, 'Sept':54}      \n",
    "solution(speed)"
   ]
  },
  {
   "cell_type": "code",
   "execution_count": 23,
   "metadata": {},
   "outputs": [
    {
     "data": {
      "text/plain": [
       "99"
      ]
     },
     "execution_count": 23,
     "metadata": {},
     "output_type": "execute_result"
    }
   ],
   "source": [
    "# Question 200\n",
    "# Remove duplicate from a list and create a tuple and find the minimum and maximum number\n",
    "\n",
    "# For Example:\n",
    "\n",
    "# sampleList = [87, 45, 41, 65, 94, 41, 99, 94]\n",
    "\n",
    "# Expected Outcome:\n",
    "\n",
    "# unique items [87, 45, 41, 65, 99]\n",
    "# tuple (87, 45, 41, 65, 99)\n",
    "# min: 41\n",
    "# max: 99\n",
    "\n",
    "# My Solution\n",
    "def solution(target):\n",
    "    return tuple(set(target))\n",
    "sampleList = [87, 45, 41, 65, 94, 41, 99, 94]\n",
    "min(solution(sampleList))\n",
    "max(solution(sampleList))\n"
   ]
  },
  {
   "cell_type": "markdown",
   "metadata": {},
   "source": [
    "### Pynative List exercises\n",
    "https://pynative.com/python-list-exercise-with-solutions/"
   ]
  },
  {
   "cell_type": "code",
   "execution_count": 32,
   "metadata": {},
   "outputs": [
    {
     "data": {
      "text/plain": [
       "[500, 400, 300, 200, 100]"
      ]
     },
     "execution_count": 32,
     "metadata": {},
     "output_type": "execute_result"
    }
   ],
   "source": [
    "# Question 201\n",
    "# Given a Python list you should be able to display Python list in the following order\n",
    "\n",
    "# aLsit = [100, 200, 300, 400, 500]\n",
    "\n",
    "# Expected output:\n",
    "\n",
    "# [500, 400, 300, 200, 100]\n",
    "\n",
    "# My Solution\n",
    "def descending_order(target):\n",
    "    return target.sort()\n",
    "aList = [100, 200, 300, 400, 500]\n",
    "aList.sort(reverse=True)\n",
    "aList"
   ]
  },
  {
   "cell_type": "code",
   "execution_count": 1,
   "metadata": {},
   "outputs": [
    {
     "data": {
      "text/plain": [
       "['My', 'name', 'is', 'Kelly']"
      ]
     },
     "execution_count": 1,
     "metadata": {},
     "output_type": "execute_result"
    }
   ],
   "source": [
    "# Question 202\n",
    "# Exercise Question 2: Concatenate two lists index-wise\n",
    "\n",
    "# list1 = [\"M\", \"na\", \"i\", \"Ke\"] \n",
    "# list2 = [\"y\", \"me\", \"s\", \"lly\"]\n",
    "\n",
    "# Expected output:\n",
    "\n",
    "# ['My', 'name', 'is', 'Kelly']\n",
    "\n",
    "# My Solution\n",
    "\n",
    "list1 = [\"M\", \"na\", \"i\", \"Ke\"] \n",
    "list2 = [\"y\", \"me\", \"s\", \"lly\"]\n",
    "concat_func = lambda x, y: x + y\n",
    "list(map(concat_func, list1, list2))"
   ]
  },
  {
   "cell_type": "code",
   "execution_count": 3,
   "metadata": {},
   "outputs": [
    {
     "data": {
      "text/plain": [
       "[1, 4, 9, 16, 25, 36, 49]"
      ]
     },
     "execution_count": 3,
     "metadata": {},
     "output_type": "execute_result"
    }
   ],
   "source": [
    "# Question 203\n",
    "# Given a Python list. Turn every item of a list into its square\n",
    "\n",
    "# aList = [1, 2, 3, 4, 5, 6, 7]\n",
    "\n",
    "# Expected output:\n",
    "\n",
    "# [1, 4, 9, 16, 25, 36, 49]\n",
    "\n",
    "# My Solution\n",
    "aList = [1, 2, 3, 4, 5, 6, 7]\n",
    "square = lambda x: x * x\n",
    "list(map(square, aList))"
   ]
  },
  {
   "cell_type": "code",
   "execution_count": 5,
   "metadata": {},
   "outputs": [
    {
     "data": {
      "text/plain": [
       "['Hello Dear', 'Hello Sir', 'take Dear', 'take Sir']"
      ]
     },
     "execution_count": 5,
     "metadata": {},
     "output_type": "execute_result"
    }
   ],
   "source": [
    "# Question 204\n",
    "# Concatenate two lists in the following order\n",
    "\n",
    "# list1 = [\"Hello \", \"take \"]\n",
    "# list2 = [\"Dear\", \"Sir\"]\n",
    "\n",
    "# Expected output:\n",
    "\n",
    "# ['Hello Dear', 'Hello Sir', 'take Dear', 'take Sir']\n",
    "\n",
    "# My Solution\n",
    "list1 = [\"Hello \", \"take \"]\n",
    "list2 = [\"Dear\", \"Sir\"]\n",
    "result = [x + y for x in list1 for y in list2]\n",
    "result"
   ]
  },
  {
   "cell_type": "code",
   "execution_count": 14,
   "metadata": {},
   "outputs": [
    {
     "name": "stdout",
     "output_type": "stream",
     "text": [
      "10\n",
      "400\n",
      "20\n",
      "300\n",
      "30\n",
      "200\n",
      "40\n",
      "100\n"
     ]
    }
   ],
   "source": [
    "# Question 205\n",
    "# Given a two Python list. Iterate both lists simultaneously such that list1 should display item in original order and list2 in reverse order\n",
    "\n",
    "# list1 = [10, 20, 30, 40]\n",
    "# list2 = [100, 200, 300, 400]\n",
    "\n",
    "# My Solution\n",
    "list1 = [10, 20, 30, 40]\n",
    "list2 = [100, 200, 300, 400]\n",
    "concatenated = list(zip(list1, reversed(list2)))\n",
    "for i in concatenated:\n",
    "    print(i[0])\n",
    "    print(i[1])"
   ]
  },
  {
   "cell_type": "code",
   "execution_count": 15,
   "metadata": {},
   "outputs": [
    {
     "data": {
      "text/plain": [
       "['Mike', 'Emma', 'Kelly', 'Brad']"
      ]
     },
     "execution_count": 15,
     "metadata": {},
     "output_type": "execute_result"
    }
   ],
   "source": [
    "# Question 206\n",
    "# Remove empty strings from the list of strings\n",
    "\n",
    "# list1 = [\"Mike\", \"\", \"Emma\", \"Kelly\", \"\", \"Brad\"]\n",
    "\n",
    "# Expected output:\n",
    "\n",
    "# [\"Mike\", \"Emma\", \"Kelly\", \"Brad\"]\n",
    "\n",
    "# My Solution\n",
    "list1 = [\"Mike\", \"\", \"Emma\", \"Kelly\", \"\", \"Brad\"]\n",
    "[x for x in list1 if x != \"\"]"
   ]
  },
  {
   "cell_type": "code",
   "execution_count": 2,
   "metadata": {},
   "outputs": [
    {
     "data": {
      "text/plain": [
       "[10, 20, [300, 400, [5000, 6000, 7000], 500], 30, 40]"
      ]
     },
     "execution_count": 2,
     "metadata": {},
     "output_type": "execute_result"
    }
   ],
   "source": [
    "# Question 207\n",
    "# Add item 7000 after 6000 in the following Python List\n",
    "\n",
    "# list1 = [10, 20, [300, 400, [5000, 6000], 500], 30, 40]\n",
    "\n",
    "# Expected output:\n",
    "\n",
    "# [10, 20, [300, 400, [5000, 6000, 7000], 500], 30, 40]\n",
    "\n",
    "# My Solution\n",
    "list1 = [10, 20, [300, 400, [5000, 6000], 500], 30, 40]\n",
    "list1[2][2] = [5000, 6000, 7000]\n",
    "list1"
   ]
  },
  {
   "cell_type": "code",
   "execution_count": 9,
   "metadata": {},
   "outputs": [
    {
     "data": {
      "text/plain": [
       "[5, 10, 15, 200, 25, 50, 20]"
      ]
     },
     "execution_count": 9,
     "metadata": {},
     "output_type": "execute_result"
    }
   ],
   "source": [
    "# Question 208\n",
    "# Given a Python list, find value 20 in the list, and if it is present, replace it with 200. Only update the first occurrence of a value\n",
    "\n",
    "# list1 = [5, 10, 15, 20, 25, 50, 20]\n",
    "\n",
    "# Expected output:\n",
    "\n",
    "# list1 = [5, 10, 15, 200, 25, 50, 20]\n",
    "\n",
    "# My Solution\n",
    "list1 = [5, 10, 15, 20, 25, 50, 20]\n",
    "index = list1.index(20)\n",
    "list1[index] = 200\n",
    "list1"
   ]
  },
  {
   "cell_type": "code",
   "execution_count": 17,
   "metadata": {},
   "outputs": [
    {
     "data": {
      "text/plain": [
       "[5, 15, 25, 50]"
      ]
     },
     "execution_count": 17,
     "metadata": {},
     "output_type": "execute_result"
    }
   ],
   "source": [
    "# Question 209\n",
    "# Given a Python list, remove all occurrence of 20 from the list\n",
    "\n",
    "# list1 = [5, 20, 15, 20, 25, 50, 20]\n",
    "\n",
    "# Expected output:\n",
    "\n",
    "# [5, 15, 25, 50]\n",
    "\n",
    "# My Solution\n",
    "list1 = [5, 20, 15, 20, 25, 50, 20]\n",
    "while 20 in list1:\n",
    "    list1.remove(20)\n",
    "list1"
   ]
  },
  {
   "cell_type": "markdown",
   "metadata": {},
   "source": [
    "### Keep looping until or occurrence are removed"
   ]
  },
  {
   "cell_type": "markdown",
   "metadata": {},
   "source": [
    "### Pynative dictionary exercises\n",
    "https://pynative.com/python-dictionary-exercise-with-solutions/"
   ]
  },
  {
   "cell_type": "code",
   "execution_count": 20,
   "metadata": {},
   "outputs": [
    {
     "data": {
      "text/plain": [
       "{'Ten': 10, 'Twenty': 20, 'Thirty': 30}"
      ]
     },
     "execution_count": 20,
     "metadata": {},
     "output_type": "execute_result"
    }
   ],
   "source": [
    "# Question 210\n",
    "# Below are the two lists convert it into the dictionary\n",
    "\n",
    "# keys = ['Ten', 'Twenty', 'Thirty']\n",
    "# values = [10, 20, 30]\n",
    "\n",
    "# Expected output:\n",
    "\n",
    "# {'Ten': 10, 'Twenty': 20, 'Thirty': 30}\n",
    "\n",
    "# My Solution\n",
    "def solution(keys, values):\n",
    "    result = {}\n",
    "    for i in range(3):\n",
    "        result[keys[i]] = values[i]\n",
    "    return result\n",
    "keys = ['Ten', 'Twenty', 'Thirty']\n",
    "values = [10, 20, 30]\n",
    "solution(keys, values)"
   ]
  },
  {
   "cell_type": "code",
   "execution_count": 28,
   "metadata": {},
   "outputs": [
    {
     "data": {
      "text/plain": [
       "{'Ten': 10, 'Twenty': 20, 'Thirty': 30, 'Fourty': 40, 'Fifty': 50}"
      ]
     },
     "execution_count": 28,
     "metadata": {},
     "output_type": "execute_result"
    }
   ],
   "source": [
    "# Question 211\n",
    "# Merge following two Python dictionaries into one\n",
    "\n",
    "# dict1 = {'Ten': 10, 'Twenty': 20, 'Thirty': 30}\n",
    "# dict2 = {'Thirty': 30, 'Fourty': 40, 'Fifty': 50}\n",
    "\n",
    "# Expected output:\n",
    "\n",
    "# {'Ten': 10, 'Twenty': 20, 'Thirty': 30, 'Fourty': 40, 'Fifty': 50}\n",
    "\n",
    "# My Solution\n",
    "def solution(dict1, dict2):\n",
    "    dict1.update(dict2)\n",
    "    return dict1\n",
    "\n",
    "# My Solution\n",
    "dict1 = {'Ten': 10, 'Twenty': 20, 'Thirty': 30}\n",
    "dict2 = {'Thirty': 30, 'Fourty': 40, 'Fifty': 50}\n",
    "solution(dict1, dict2)\n"
   ]
  },
  {
   "cell_type": "code",
   "execution_count": 4,
   "metadata": {},
   "outputs": [
    {
     "data": {
      "text/plain": [
       "80"
      ]
     },
     "execution_count": 4,
     "metadata": {},
     "output_type": "execute_result"
    }
   ],
   "source": [
    "# Question 211\n",
    "# Access the value of key ‘history’\n",
    "\n",
    "# sampleDict = { \n",
    "#    \"class\":{ \n",
    "#       \"student\":{ \n",
    "#          \"name\":\"Mike\",\n",
    "#          \"marks\":{ \n",
    "#             \"physics\":70,\n",
    "#             \"history\":80\n",
    "#          }\n",
    "#       }\n",
    "#    }\n",
    "# }\n",
    "\n",
    "# Expected output:\n",
    "\n",
    "# 80\n",
    "\n",
    "# My Solution\n",
    "sampleDict = { \n",
    "   \"class\":{ \n",
    "      \"student\":{ \n",
    "         \"name\":\"Mike\",\n",
    "         \"marks\":{ \n",
    "            \"physics\":70,\n",
    "            \"history\":80\n",
    "         }\n",
    "      }\n",
    "   }\n",
    "}\n",
    "sampleDict[\"class\"][\"student\"][\"marks\"][\"history\"]"
   ]
  },
  {
   "cell_type": "code",
   "execution_count": 7,
   "metadata": {},
   "outputs": [
    {
     "data": {
      "text/plain": [
       "{'Kelly': {'designation': 'Application Developer', 'salary': 8000},\n",
       " 'Emma': {'designation': 'Application Developer', 'salary': 8000},\n",
       " 'John': {'designation': 'Application Developer', 'salary': 8000}}"
      ]
     },
     "execution_count": 7,
     "metadata": {},
     "output_type": "execute_result"
    }
   ],
   "source": [
    "# Question 213\n",
    "# Initialize dictionary with default values\n",
    "\n",
    "# Given:\n",
    "\n",
    "# employees = ['Kelly', 'Emma', 'John']\n",
    "# defaults = {\"designation\": 'Application Developer', \"salary\": 8000}\n",
    "\n",
    "# My Solution\n",
    "def solution(employees, defaults):\n",
    "    result = {}\n",
    "    for i in employees:\n",
    "        result[i] = defaults\n",
    "    return result\n",
    "employees = ['Kelly', 'Emma', 'John']\n",
    "defaults = {\"designation\": 'Application Developer', \"salary\": 8000}\n",
    "solution(employees, defaults)"
   ]
  },
  {
   "cell_type": "code",
   "execution_count": 11,
   "metadata": {},
   "outputs": [
    {
     "data": {
      "text/plain": [
       "{'name': 'Kelly', 'salary': 8000}"
      ]
     },
     "execution_count": 11,
     "metadata": {},
     "output_type": "execute_result"
    }
   ],
   "source": [
    "# Question 214\n",
    "# Create a new dictionary by extracting the following keys from a given dictionary\n",
    "\n",
    "# Given dictionary:\n",
    "\n",
    "# sampleDict = {\n",
    "#   \"name\": \"Kelly\",\n",
    "#   \"age\":25,\n",
    "#   \"salary\": 8000,\n",
    "#   \"city\": \"New york\"\n",
    "  \n",
    "# }\n",
    "\n",
    "# Keys to extract\n",
    "\n",
    "# keys = [\"name\", \"salary\"]\n",
    "\n",
    "# Expected output:\n",
    "\n",
    "# {'name': 'Kelly', 'salary': 8000}\n",
    "\n",
    "# My Solution\n",
    "def extracter(sample, keys):\n",
    "    result = {}\n",
    "    for i in keys:\n",
    "        result[i] = sample[i]\n",
    "    return result\n",
    "\n",
    "sampleDict = {\n",
    "  \"name\": \"Kelly\",\n",
    "  \"age\":25,\n",
    "  \"salary\": 8000,\n",
    "  \"city\": \"New york\"\n",
    "  \n",
    "}\n",
    "\n",
    "keys = [\"name\", \"salary\"]\n",
    "\n",
    "extracter(sampleDict, keys)"
   ]
  },
  {
   "cell_type": "code",
   "execution_count": 16,
   "metadata": {},
   "outputs": [
    {
     "data": {
      "text/plain": [
       "{'age': 25, 'city': 'New york'}"
      ]
     },
     "execution_count": 16,
     "metadata": {},
     "output_type": "execute_result"
    }
   ],
   "source": [
    "# Question 215\n",
    "# Delete set of keys from Python Dictionary\n",
    "\n",
    "# Given:\n",
    "\n",
    "# sampleDict = {\n",
    "#   \"name\": \"Kelly\",\n",
    "#   \"age\":25,\n",
    "#   \"salary\": 8000,\n",
    "#   \"city\": \"New york\"\n",
    "  \n",
    "# }\n",
    "# keysToRemove = [\"name\", \"salary\"]\n",
    "\n",
    "# Expected output:\n",
    "\n",
    "# {'city': 'New york', 'age': 25}\n",
    "\n",
    "# My Solution\n",
    "def remover(sample, keys_to_remove):\n",
    "    for i in keys_to_remove:\n",
    "        sample.pop(i)\n",
    "    return sample\n",
    "\n",
    "sampleDict = {\n",
    "  \"name\": \"Kelly\",\n",
    "  \"age\":25,\n",
    "  \"salary\": 8000,\n",
    "  \"city\": \"New york\"\n",
    "}\n",
    "\n",
    "keys = [\"name\", \"salary\"]\n",
    "\n",
    "remover(sampleDict, keys)"
   ]
  },
  {
   "cell_type": "code",
   "execution_count": 31,
   "metadata": {},
   "outputs": [
    {
     "data": {
      "text/plain": [
       "True"
      ]
     },
     "execution_count": 31,
     "metadata": {},
     "output_type": "execute_result"
    }
   ],
   "source": [
    "# Question 216\n",
    "# Check if a value 200 exists in a dictionary\n",
    "\n",
    "# sampleDict = {'a': 100, 'b': 200, 'c': 300}\n",
    "\n",
    "# Expected output:\n",
    "\n",
    "# True\n",
    "\n",
    "# My Solution\n",
    "def solution(sample):\n",
    "    if 200 in sample.values():\n",
    "        return True\n",
    "    else:\n",
    "        return False\n",
    "sampleDict = {'a': 100, 'b': 200, 'c': 300}\n",
    "solution(sampleDict)\n",
    "\n"
   ]
  },
  {
   "cell_type": "code",
   "execution_count": 3,
   "metadata": {},
   "outputs": [
    {
     "data": {
      "text/plain": [
       "{'name': 'Kelly', 'age': 25, 'salary': 8000, 'location': 'New york'}"
      ]
     },
     "execution_count": 3,
     "metadata": {},
     "output_type": "execute_result"
    }
   ],
   "source": [
    "# Question 217\n",
    "# Rename key city to location in the following dictionary\n",
    "\n",
    "# sampleDict = {\n",
    "#   \"name\": \"Kelly\",\n",
    "#   \"age\":25,\n",
    "#   \"salary\": 8000,\n",
    "#   \"city\": \"New york\"\n",
    "# }\n",
    "\n",
    "# Expected output:\n",
    "\n",
    "# {\n",
    "#   \"name\": \"Kelly\",\n",
    "#   \"age\":25,\n",
    "#   \"salary\": 8000,\n",
    "#   \"location\": \"New york\"\n",
    "# }\n",
    "\n",
    "# My Solution\n",
    "sampleDict = {\n",
    "  \"name\": \"Kelly\",\n",
    "  \"age\":25,\n",
    "  \"salary\": 8000,\n",
    "  \"city\": \"New york\"\n",
    "}\n",
    "sampleDict[\"location\"] = sampleDict.pop(\"city\")\n",
    "sampleDict"
   ]
  },
  {
   "cell_type": "code",
   "execution_count": 9,
   "metadata": {},
   "outputs": [
    {
     "data": {
      "text/plain": [
       "'Math'"
      ]
     },
     "execution_count": 9,
     "metadata": {},
     "output_type": "execute_result"
    }
   ],
   "source": [
    "# Question 218\n",
    "# Get the key corresponding to the minimum value from the following dictionary\n",
    "\n",
    "# sampleDict = {\n",
    "#   'Physics': 82,\n",
    "#   'Math': 65,\n",
    "#   'history': 75\n",
    "# }\n",
    "\n",
    "# My Solution\n",
    "sampleDict = {\n",
    "  'Physics': 82,\n",
    "  'Math': 65,\n",
    "  'history': 75\n",
    "}\n",
    "min(sampleDict, key=sampleDict.get)"
   ]
  },
  {
   "cell_type": "code",
   "execution_count": 10,
   "metadata": {},
   "outputs": [
    {
     "data": {
      "text/plain": [
       "{'emp1': {'name': 'Jhon', 'salary': 7500},\n",
       " 'emp2': {'name': 'Emma', 'salary': 8000},\n",
       " 'emp3': {'name': 'Brad', 'salary': 8500}}"
      ]
     },
     "execution_count": 10,
     "metadata": {},
     "output_type": "execute_result"
    }
   ],
   "source": [
    "# # Question 219\n",
    "# Given a Python dictionary, Change Brad’s salary to 8500\n",
    "\n",
    "# sampleDict = {\n",
    "#      'emp1': {'name': 'Jhon', 'salary': 7500},\n",
    "#      'emp2': {'name': 'Emma', 'salary': 8000},\n",
    "#      'emp3': {'name': 'Brad', 'salary': 6500}\n",
    "# }\n",
    "\n",
    "# Expected output:\n",
    "\n",
    "# sampleDict = {\n",
    "#      'emp1': {'name': 'Jhon', 'salary': 7500},\n",
    "#      'emp2': {'name': 'Emma', 'salary': 8000},\n",
    "#      'emp3': {'name': 'Brad', 'salary': 8500}\n",
    "# }\n",
    "\n",
    "# My Solution   \n",
    "sampleDict = {\n",
    "     'emp1': {'name': 'Jhon', 'salary': 7500},\n",
    "     'emp2': {'name': 'Emma', 'salary': 8000},\n",
    "     'emp3': {'name': 'Brad', 'salary': 6500}\n",
    "}\n",
    "\n",
    "sampleDict[\"emp3\"][\"salary\"] = 8500\n",
    "\n",
    "sampleDict"
   ]
  },
  {
   "cell_type": "markdown",
   "metadata": {},
   "source": [
    "### Pynative Tuples Exercises\n",
    "https://pynative.com/python-tuple-exercise-with-solutions/"
   ]
  },
  {
   "cell_type": "code",
   "execution_count": 11,
   "metadata": {},
   "outputs": [
    {
     "data": {
      "text/plain": [
       "(50, 40, 30, 20, 10)"
      ]
     },
     "execution_count": 11,
     "metadata": {},
     "output_type": "execute_result"
    }
   ],
   "source": [
    "# Question 220\n",
    "# Reverse the following tuple\n",
    "\n",
    "# aTuple = (10, 20, 30, 40, 50)\n",
    "\n",
    "# Expected output:\n",
    "\n",
    "# (50, 40, 30, 20, 10)\n",
    "\n",
    "# My Solution\n",
    "aTuple = (10, 20, 30, 40, 50)\n",
    "aTuple[::-1]"
   ]
  },
  {
   "cell_type": "code",
   "execution_count": 12,
   "metadata": {},
   "outputs": [
    {
     "data": {
      "text/plain": [
       "20"
      ]
     },
     "execution_count": 12,
     "metadata": {},
     "output_type": "execute_result"
    }
   ],
   "source": [
    "# Question 221\n",
    "# Access value 20 from the following tuple\n",
    "\n",
    "# aTuple = (\"Orange\", [10, 20, 30], (5, 15, 25))\n",
    "\n",
    "# Expected output:\n",
    "\n",
    "# 20\n",
    "\n",
    "# My Solution\n",
    "aTuple = (\"Orange\", [10, 20, 30], (5, 15, 25))\n",
    "aTuple[1][1]"
   ]
  },
  {
   "cell_type": "code",
   "execution_count": 5,
   "metadata": {},
   "outputs": [
    {
     "data": {
      "text/plain": [
       "(50,)"
      ]
     },
     "execution_count": 5,
     "metadata": {},
     "output_type": "execute_result"
    }
   ],
   "source": [
    "# Question 222\n",
    "#  Create a tuple with single item 50\n",
    "t = (50,)\n",
    "t"
   ]
  },
  {
   "cell_type": "markdown",
   "metadata": {},
   "source": [
    "### Single item tuple requires a \",\""
   ]
  },
  {
   "cell_type": "code",
   "execution_count": 10,
   "metadata": {},
   "outputs": [
    {
     "name": "stdout",
     "output_type": "stream",
     "text": [
      "10\n",
      "20\n",
      "30\n",
      "40\n"
     ]
    }
   ],
   "source": [
    "# Question 223\n",
    "# Unpack the following tuple into 4 variables\n",
    "\n",
    "# aTuple = (10, 20, 30, 40)\n",
    "\n",
    "# Expected output:\n",
    "\n",
    "# aTuple = (10, 20, 30, 40)\n",
    "# # Your code\n",
    "# print(a) # should print 10\n",
    "# print(b) # should print 20\n",
    "# print(c) # should print 30\n",
    "# print(d) # should print 40\n",
    "\n",
    "# My Solution\n",
    "aTuple = (10, 20, 30, 40)\n",
    "a, b, c, d = aTuple\n",
    "print(a)\n",
    "print(b)\n",
    "print(c)\n",
    "print(d)"
   ]
  },
  {
   "cell_type": "code",
   "execution_count": 12,
   "metadata": {},
   "outputs": [
    {
     "data": {
      "text/plain": [
       "(99, 88)"
      ]
     },
     "execution_count": 12,
     "metadata": {},
     "output_type": "execute_result"
    }
   ],
   "source": [
    "# Question 224\n",
    "# Swap the following two tuples\n",
    "\n",
    "# tuple1 = (11, 22)\n",
    "# tuple2 = (99, 88)\n",
    "\n",
    "# Expected output:\n",
    "\n",
    "# tuple1 = (99, 88)\n",
    "# tuple2 = (11, 22)\n",
    "\n",
    "# My Solution\n",
    "tuple1 = (11, 22)\n",
    "tuple2 = (99, 88)\n",
    "temp = tuple2\n",
    "tuple2 = tuple1\n",
    "tuple1 = temp\n",
    "tuple1\n",
    "\n",
    "# Their Solution\n",
    "tuple1 = (11, 22)\n",
    "tuple2 = (99, 88)\n",
    "tuple1, tuple2 = tuple2, tuple1\n",
    "print(tuple2)\n",
    "print(tuple1)"
   ]
  },
  {
   "cell_type": "code",
   "execution_count": 14,
   "metadata": {},
   "outputs": [
    {
     "data": {
      "text/plain": [
       "(33, 44)"
      ]
     },
     "execution_count": 14,
     "metadata": {},
     "output_type": "execute_result"
    }
   ],
   "source": [
    "# Question 225\n",
    "# Copy element 44 and 55 from the following tuple into a new tuple\n",
    "\n",
    "# tuple1 = (11, 22, 33, 44, 55, 66)\n",
    "\n",
    "# Expected output:\n",
    "\n",
    "# tuple2 = (44, 55)\n",
    "\n",
    "# My Solution\n",
    "tuple1 = (11, 22, 33, 44, 55, 66)\n",
    "tuple2 = (tuple1[2], tuple1[3])\n",
    "tuple2"
   ]
  },
  {
   "cell_type": "code",
   "execution_count": 16,
   "metadata": {},
   "outputs": [
    {
     "data": {
      "text/plain": [
       "(11, [222, 33], 44, 55)"
      ]
     },
     "execution_count": 16,
     "metadata": {},
     "output_type": "execute_result"
    }
   ],
   "source": [
    "# Question 226\n",
    "# Modify the first item (22) of a list inside a following tuple to 222\n",
    "\n",
    "# tuple1 = (11, [22, 33], 44, 55)\n",
    "\n",
    "# Expected output:\n",
    "\n",
    "# tuple1 = (11, [222, 33], 44, 55)\n",
    "\n",
    "# My Solution\n",
    "tuple1 = (11, [22, 33], 44, 55)\n",
    "tuple1[1][0] = 222 \n",
    "tuple1"
   ]
  },
  {
   "cell_type": "code",
   "execution_count": 14,
   "metadata": {},
   "outputs": [
    {
     "data": {
      "text/plain": [
       "[('c', 11), ('a', 23), ('d', 29), ('b', 37)]"
      ]
     },
     "execution_count": 14,
     "metadata": {},
     "output_type": "execute_result"
    }
   ],
   "source": [
    "# Question 227\n",
    "# Sort a tuple of tuples by 2nd item\n",
    "\n",
    "# tuple1 = (('a', 23),('b', 37),('c', 11), ('d',29))\n",
    "\n",
    "# Expected output:\n",
    "\n",
    "# (('c', 11), ('a', 23), ('d', 29), ('b', 37))\n",
    "\n",
    "# My Solution\n",
    "tuple1 = (('a', 23),('b', 37),('c', 11), ('d',29))\n",
    "listed = list(tuple1)\n",
    "from operator import itemgetter\n",
    "listed.sort(key=itemgetter(1))\n",
    "listed\n"
   ]
  },
  {
   "cell_type": "code",
   "execution_count": 17,
   "metadata": {},
   "outputs": [
    {
     "name": "stdout",
     "output_type": "stream",
     "text": [
      "2\n"
     ]
    }
   ],
   "source": [
    "# Question 228\n",
    "# Counts the number of occurrences of item 50 from a tuple\n",
    "\n",
    "# tuple1 = (50, 10, 60, 70, 50)\n",
    "\n",
    "# Expected output:\n",
    "\n",
    "# 2\n",
    "\n",
    "# My Solution\n",
    "def counter(t):\n",
    "    count = 0\n",
    "    for i in t:\n",
    "        if i == 50:\n",
    "            count += 1\n",
    "    return count\n",
    "tuple1 = (50, 10, 60, 70, 50)\n",
    "counter(tuple1)\n",
    "\n",
    "# Their solution\n",
    "# print(tuple1.count(50))"
   ]
  },
  {
   "cell_type": "code",
   "execution_count": 20,
   "metadata": {},
   "outputs": [
    {
     "data": {
      "text/plain": [
       "False"
      ]
     },
     "execution_count": 20,
     "metadata": {},
     "output_type": "execute_result"
    }
   ],
   "source": [
    "# Question 229\n",
    "# Check if all items in the following tuple are the same\n",
    "\n",
    "# tuple1 = (45, 45, 45, 45)\n",
    "\n",
    "# Expected output:\n",
    "\n",
    "# True\n",
    "\n",
    "# My Solution\n",
    "def solution(t):\n",
    "    areSame = True\n",
    "    for i in range(1, len(tuple1)):\n",
    "        if t[0] != t[i]:\n",
    "            areSame = False\n",
    "    return areSame\n",
    "tuple1 = (42, 45, 45, 45)\n",
    "solution(tuple1)\n",
    "        "
   ]
  },
  {
   "cell_type": "markdown",
   "metadata": {},
   "source": [
    "### Pynative JSON Exercises \n",
    "https://pynative.com/python-json-exercise/"
   ]
  },
  {
   "cell_type": "code",
   "execution_count": 23,
   "metadata": {},
   "outputs": [
    {
     "data": {
      "text/plain": [
       "'{\"key1\": \"value1\", \"key2\": \"value2\"}'"
      ]
     },
     "execution_count": 23,
     "metadata": {},
     "output_type": "execute_result"
    }
   ],
   "source": [
    "# Question 230\n",
    "# Convert the following data into JSON format\n",
    "\n",
    "# data = {\"key1\" : \"value1\", \"key2\" : \"value2\"}\n",
    "\n",
    "# For example, the output should look like:\n",
    "\n",
    "# data = {\"key1\" : \"value1\", \"key2\" : \"value2\"}\n",
    "\n",
    "# My Solution\n",
    "import json\n",
    "data = {\"key1\" : \"value1\", \"key2\" : \"value2\"}\n",
    "data_json = json.dumps(data)\n",
    "data_json\n"
   ]
  },
  {
   "cell_type": "code",
   "execution_count": 29,
   "metadata": {},
   "outputs": [
    {
     "data": {
      "text/plain": [
       "'value2'"
      ]
     },
     "execution_count": 29,
     "metadata": {},
     "output_type": "execute_result"
    }
   ],
   "source": [
    "# Question 231\n",
    "# Access the value of key2 from the following JSON\n",
    "\n",
    "# {\"key1\": \"value1\", \"key2\": \"value2\"}\n",
    "\n",
    "# import json\n",
    "\n",
    "# sampleJson = \"\"\"{\"key1\": \"value1\", \"key2\": \"value2\"}\"\"\"\n",
    "\n",
    "# # write code to print the value of key2\n",
    "\n",
    "# Expected Output:\n",
    "\n",
    "# value2\n",
    "\n",
    "# My Solution\n",
    "import json\n",
    "\n",
    "sampleJson = \"\"\"{\"key1\": \"value1\", \"key2\": \"value2\"}\"\"\"\n",
    "sampleDict = json.loads(sampleJson)\n",
    "sampleDict[\"key2\"]"
   ]
  },
  {
   "cell_type": "code",
   "execution_count": 5,
   "metadata": {},
   "outputs": [
    {
     "name": "stdout",
     "output_type": "stream",
     "text": [
      "{\n",
      "  \"key1\" = \"value1\",\n",
      "  \"key2\" = \"value2\"\n",
      "}\n"
     ]
    }
   ],
   "source": [
    "# Question 232\n",
    "# PrettyPrint following JSON data\n",
    "\n",
    "# PrettyPrint following JSON data with indent level 2 and key-value separators should be (\",\", \" = \").\n",
    "\n",
    "# sampleJson = {\"key1\": \"value1\", \"key2\": \"value2\"}\n",
    "\n",
    "# Expected Output:\n",
    "\n",
    "# {\n",
    "#   \"key1\" = \"value2\",\n",
    "#   \"key2\" = \"value2\",\n",
    "#   \"key3\" = \"value3\"\n",
    "# }\n",
    "\n",
    "# My Solution\n",
    "import json\n",
    "sampleJson = '{\"key1\": \"value1\", \"key2\": \"value2\"}'\n",
    "\n",
    "json_object = json.loads(sampleJson)\n",
    "\n",
    "json_formatted_str = json.dumps(json_object, indent=2, separators=(\",\", \" = \"))\n",
    "\n",
    "print(json_formatted_str)\n"
   ]
  },
  {
   "cell_type": "code",
   "execution_count": 6,
   "metadata": {},
   "outputs": [
    {
     "name": "stdout",
     "output_type": "stream",
     "text": [
      "Started writing JSON data into a file\n",
      "Done writing JSON data into a file\n"
     ]
    }
   ],
   "source": [
    "# Question 233\n",
    "# Sort JSON keys in Python and write it into a file\n",
    "\n",
    "# Sort following JSON data alphabetical order of keys\n",
    "\n",
    "# sampleJson = {\"id\" : 1, \"name\" : \"value2\", \"age\" : 29}\n",
    "\n",
    "# Expected Output:\n",
    "\n",
    "# {\n",
    "#     \"age\": 29,\n",
    "#     \"id\": 1,\n",
    "#     \"name\": \"value2\"\n",
    "# }\n",
    "\n",
    "# Their Solution\n",
    "import json\n",
    "\n",
    "sampleJson = {\"id\" : 1, \"name\" : \"value2\", \"age\" : 29}\n",
    "\n",
    "print(\"Started writing JSON data into a file\")\n",
    "with open(\"sampleJson.json\", \"w\") as write_file:\n",
    "    json.dump(sampleJson, write_file, indent=4, sort_keys=True)\n",
    "print(\"Done writing JSON data into a file\")"
   ]
  },
  {
   "cell_type": "code",
   "execution_count": 12,
   "metadata": {},
   "outputs": [
    {
     "data": {
      "text/plain": [
       "7000"
      ]
     },
     "execution_count": 12,
     "metadata": {},
     "output_type": "execute_result"
    }
   ],
   "source": [
    "# Question 234\n",
    "# Access the nested key ‘salary’ from the following JSON\n",
    "\n",
    "# import json\n",
    "\n",
    "# sampleJson = \"\"\"{ \n",
    "#    \"company\":{ \n",
    "#       \"employee\":{ \n",
    "#          \"name\":\"emma\",\n",
    "#          \"payble\":{ \n",
    "#             \"salary\":7000,\n",
    "#             \"bonus\":800\n",
    "#          }\n",
    "#       }\n",
    "#    }\n",
    "# }\"\"\"\n",
    "\n",
    "# # write code to print the value of salary\n",
    "\n",
    "# Expected Output:\n",
    "\n",
    "# 7000\n",
    "\n",
    "# My Solution\n",
    "import json\n",
    "\n",
    "sampleJson = \"\"\"{ \n",
    "   \"company\":{ \n",
    "      \"employee\":{ \n",
    "         \"name\":\"emma\",\n",
    "         \"payble\":{ \n",
    "            \"salary\":7000,\n",
    "            \"bonus\":800\n",
    "         }\n",
    "      }\n",
    "   }\n",
    "}\"\"\"\n",
    "\n",
    "json_object = json.loads(sampleJson)\n",
    "\n",
    "json_object[\"company\"][\"employee\"][\"payble\"][\"salary\"]"
   ]
  },
  {
   "cell_type": "code",
   "execution_count": 15,
   "metadata": {},
   "outputs": [
    {
     "data": {
      "text/plain": [
       "'{\"name\": \"Toyota Rav4\", \"engine\": \"2.5L\", \"price\": 32000}'"
      ]
     },
     "execution_count": 15,
     "metadata": {},
     "output_type": "execute_result"
    }
   ],
   "source": [
    "# Question 235\n",
    "# Convert the following Vehicle Object into JSON\n",
    "\n",
    "# import json\n",
    "\n",
    "# class Vehicle:\n",
    "#     def __init__(self, name, engine, price):\n",
    "#         self.name = name\n",
    "#         self.engine = engine\n",
    "#         self.price = price\n",
    "\n",
    "# vehicle = Vehicle(\"Toyota Rav4\", \"2.5L\", 32000)\n",
    "\n",
    "# # Convert it into JSON format\n",
    "\n",
    "# Expected Output:\n",
    "\n",
    "# {\n",
    "#     \"name\": \"Toyota Rav4\",\n",
    "#     \"engine\": \"2.5L\",\n",
    "#     \"price\": 32000\n",
    "# }\n",
    "\n",
    "# My Solution\n",
    "import json\n",
    "\n",
    "class Vehicle:\n",
    "    def __init__(self, name, engine, price):\n",
    "        self.name = name\n",
    "        self.engine = engine\n",
    "        self.price = price\n",
    "\n",
    "vehicle = Vehicle(\"Toyota Rav4\", \"2.5L\", 32000)\n",
    "\n",
    "json.dumps(vehicle.__dict__)"
   ]
  },
  {
   "cell_type": "code",
   "execution_count": 28,
   "metadata": {},
   "outputs": [
    {
     "data": {
      "text/plain": [
       "'Toyota Rav4'"
      ]
     },
     "execution_count": 28,
     "metadata": {},
     "output_type": "execute_result"
    }
   ],
   "source": [
    "# Question 236\n",
    "# Convert the following JSON into Vehicle Object\n",
    "\n",
    "# { \"name\": \"Toyota Rav4\", \"engine\": \"2.5L\", \"price\": 32000 }\n",
    "\n",
    "# For example, we should able to access Vehicle Object using the dot operator like this.\n",
    "\n",
    "# vehicleObj.name, vehicleObj.engine, vehicleObj.price\n",
    "\n",
    "# My Solution\n",
    "json_object = '{ \"name\": \"Toyota Rav4\", \"engine\": \"2.5L\", \"price\": 32000 }'\n",
    "vehicle_obj = json.loads(json_object)\n",
    "toyota = Vehicle(vehicle_obj[\"name\"], vehicle_obj[\"engine\"], vehicle_obj[\"price\"])\n",
    "toyota.name"
   ]
  },
  {
   "cell_type": "code",
   "execution_count": 11,
   "metadata": {},
   "outputs": [
    {
     "name": "stdout",
     "output_type": "stream",
     "text": [
      "Given JSON string is  False\n"
     ]
    }
   ],
   "source": [
    "# Question 237\n",
    "# Check whether following json is valid or invalid. If Invalid correct it\n",
    "\n",
    "# { \n",
    "#    \"company\":{ \n",
    "#       \"employee\":{ \n",
    "#          \"name\":\"emma\",\n",
    "#          \"payble\":{ \n",
    "#             \"salary\":7000\n",
    "#             \"bonus\":800\n",
    "#          }\n",
    "#       }\n",
    "#    }\n",
    "# }\n",
    "\n",
    "# My Solution\n",
    "import json\n",
    "\n",
    "def validateJSON(jsonData):\n",
    "    try:\n",
    "        json.loads(jsonData)\n",
    "    except ValueError as err:\n",
    "        return False\n",
    "    return True\n",
    "\n",
    "InvalidJsonData = \"\"\"{ \"company\":{ \"employee\":{ \"name\":\"emma\", \"payble\":{ \"salary\":7000 \"bonus\":800} } } }\"\"\"\n",
    "isValid = validateJSON(InvalidJsonData)\n",
    "\n",
    "print(\"Given JSON string is \", isValid)"
   ]
  },
  {
   "cell_type": "code",
   "execution_count": 15,
   "metadata": {},
   "outputs": [
    {
     "data": {
      "text/plain": [
       "'name2'"
      ]
     },
     "execution_count": 15,
     "metadata": {},
     "output_type": "execute_result"
    }
   ],
   "source": [
    "# Question 238\n",
    "#  Parse the following JSON to get all the values of a key ‘name’ within an array\n",
    "\n",
    "# [ \n",
    "#    { \n",
    "#       \"id\":1,\n",
    "#       \"name\":\"name1\",\n",
    "#       \"color\":[ \n",
    "#          \"red\",\n",
    "#          \"green\"\n",
    "#       ]\n",
    "#    },\n",
    "#    { \n",
    "#       \"id\":2,\n",
    "#       \"name\":\"name2\",\n",
    "#       \"color\":[ \n",
    "#          \"pink\",\n",
    "#          \"yellow\"\n",
    "#       ]\n",
    "#    }\n",
    "# ]\n",
    "\n",
    "# Expected Output:\n",
    "\n",
    "# [\"name1\", \"name2\"]\n",
    "\n",
    "# My Solution\n",
    "import json\n",
    "target = \"\"\"[ \n",
    "   { \n",
    "      \"id\":1,\n",
    "      \"name\":\"name1\",\n",
    "      \"color\":[ \n",
    "         \"red\",\n",
    "         \"green\"\n",
    "      ]\n",
    "   },\n",
    "   { \n",
    "      \"id\":2,\n",
    "      \"name\":\"name2\",\n",
    "      \"color\":[ \n",
    "         \"pink\",\n",
    "         \"yellow\"\n",
    "      ]\n",
    "   }\n",
    "]\"\"\"\n",
    "\n",
    "result = json.loads(target)\n",
    "result[0][\"name\"]\n",
    "result[1][\"name\"]"
   ]
  },
  {
   "cell_type": "markdown",
   "metadata": {},
   "source": [
    "### Pynative String Exercises\n",
    "https://pynative.com/python-string-exercise/"
   ]
  },
  {
   "cell_type": "code",
   "execution_count": 21,
   "metadata": {},
   "outputs": [
    {
     "data": {
      "text/plain": [
       "'Dip'"
      ]
     },
     "execution_count": 21,
     "metadata": {},
     "output_type": "execute_result"
    }
   ],
   "source": [
    "# Question 239\n",
    "# Given a string of odd length greater 7, return a string made of the middle three chars of a given String\n",
    "\n",
    "# Case 1:\n",
    "\n",
    "# str1 = \"JhonDipPeta\"\n",
    "\n",
    "# Expected Output:\n",
    "\n",
    "# Dip\n",
    "\n",
    "# Case 2:\n",
    "\n",
    "# str2 = \"JaSonAy\"\n",
    "\n",
    "# Expected Output:\n",
    "\n",
    "# Son\n",
    "\n",
    "# My Solution\n",
    "def solution(s):\n",
    "    length = len(s)\n",
    "    start = length // 2 - 1\n",
    "    stop = length // 2 + 2\n",
    "    return s[start: stop]\n",
    "str1 = \"JhonDipPeta\"\n",
    "solution(str1)"
   ]
  },
  {
   "cell_type": "code",
   "execution_count": 23,
   "metadata": {},
   "outputs": [
    {
     "data": {
      "text/plain": [
       "'AuKellylt'"
      ]
     },
     "execution_count": 23,
     "metadata": {},
     "output_type": "execute_result"
    }
   ],
   "source": [
    "# Question 240\n",
    "# Given 2 strings, s1 and s2, create a new string by appending s2 in the middle of s1\n",
    "\n",
    "# Given:\n",
    "\n",
    "# s1 = \"Ault\"\n",
    "# s2 = \"Kelly\"\n",
    "\n",
    "# Expected Output:\n",
    "\n",
    "# AuKellylt\n",
    "\n",
    "# My Solution\n",
    "def solution(s1, s2):\n",
    "    mid = len(s1)//2\n",
    "    return s1[:mid] + s2 + s1[mid:]\n",
    "s1 = \"Ault\"\n",
    "s2 = \"Kelly\"\n",
    "solution(s1, s2)"
   ]
  },
  {
   "cell_type": "code",
   "execution_count": 29,
   "metadata": {},
   "outputs": [
    {
     "data": {
      "text/plain": [
       "'AJraan'"
      ]
     },
     "execution_count": 29,
     "metadata": {},
     "output_type": "execute_result"
    }
   ],
   "source": [
    "# Question 241\n",
    "# Given 2 strings, s1, and s2 return a new string made of the first, middle and last char each input string\n",
    "\n",
    "# Given:\n",
    "\n",
    "# s1 = \"America\"\n",
    "# s2 = \"Japan\"\n",
    "\n",
    "# Expected Output:\n",
    "\n",
    "# AJrpan\n",
    "\n",
    "# My Solution\n",
    "def solution(s1, s2):\n",
    "    mid1 = len(s1)//2\n",
    "    mid2 = len(s2)//2\n",
    "    result = s1[0] + s2[0] + s1[mid1] + s2[mid1] + s1[-1] + s2[-1]\n",
    "    return result\n",
    "s1 = \"America\"\n",
    "s2 = \"Japan\"\n",
    "solution(s1, s2)"
   ]
  },
  {
   "cell_type": "code",
   "execution_count": 5,
   "metadata": {},
   "outputs": [
    {
     "data": {
      "text/plain": [
       "'yaivePNT'"
      ]
     },
     "execution_count": 5,
     "metadata": {},
     "output_type": "execute_result"
    }
   ],
   "source": [
    "# Question 242\n",
    "# Arrange string characters such that lowercase letters should come first\n",
    "\n",
    "# Given an input string with the combination of the lower and upper case arrange characters in such a way that all lowercase letters should come first.\n",
    "\n",
    "# Given:\n",
    "\n",
    "# str1 = PyNaTive\n",
    "\n",
    "# Expected Output:\n",
    "\n",
    "# yaivePNT\n",
    "\n",
    "# My Solution\n",
    "def solution(s):\n",
    "    lower = \"\"\n",
    "    upper = \"\"\n",
    "    for i in s:\n",
    "        if i.islower():\n",
    "            lower = lower + i\n",
    "        else:\n",
    "            upper = upper + i\n",
    "    return lower + upper\n",
    "solution(\"PyNaTive\")"
   ]
  },
  {
   "cell_type": "code",
   "execution_count": 8,
   "metadata": {},
   "outputs": [
    {
     "data": {
      "text/plain": [
       "(8, 3, 4)"
      ]
     },
     "execution_count": 8,
     "metadata": {},
     "output_type": "execute_result"
    }
   ],
   "source": [
    "# Question 243\n",
    "# Count all lower case, upper case, digits, and special symbols from a given string\n",
    "\n",
    "# Given:\n",
    "\n",
    "# str1 = \"P@#yn26at^&i5ve\"\n",
    "\n",
    "# Expected Outcome:\n",
    "\n",
    "# Total counts of chars, digits,and symbols \n",
    "\n",
    "# Chars = 8 \n",
    "# Digits = 3 \n",
    "# Symbol = 4\n",
    "\n",
    "# My Solution\n",
    "def solution(s):\n",
    "    count_char = 0\n",
    "    count_digit = 0\n",
    "    count_symbol = 0\n",
    "    for i in s:\n",
    "        if i.isalpha():\n",
    "            count_char += 1\n",
    "        elif i.isdigit():\n",
    "            count_digit += 1\n",
    "        else:\n",
    "            count_symbol += 1\n",
    "    return count_char, count_digit, count_symbol\n",
    "solution(\"P@#yn26at^&i5ve\")"
   ]
  },
  {
   "cell_type": "code",
   "execution_count": 10,
   "metadata": {},
   "outputs": [
    {
     "data": {
      "text/plain": [
       "'AzbycX'"
      ]
     },
     "execution_count": 10,
     "metadata": {},
     "output_type": "execute_result"
    }
   ],
   "source": [
    "# Question 244\n",
    "# Given two strings, s1 and s2, create a mixed String\n",
    "\n",
    "# Note: create a third-string made of the first char of s1 then the last char of s2, Next, the second char of s1 and second last char of s2, and so on. Any leftover chars go at the end of the result.\n",
    "\n",
    "# Given:\n",
    "\n",
    "# s1 = \"Abc\"\n",
    "# s2 = \"Xyz\"\n",
    "\n",
    "# Expected Output:\n",
    "\n",
    "# AzbycX\n",
    "\n",
    "# My Solution\n",
    "def solution(s1, s2):\n",
    "    result = \"\"\n",
    "    s2 = s2[::-1]\n",
    "    listed_s1 = list(s1)\n",
    "    listed_s2 = list(s2)\n",
    "    for i in range(len(s1)):\n",
    "        result += listed_s1[i]\n",
    "        result += listed_s2[i]\n",
    "    return \"\".join(result)\n",
    "s1 = \"Abc\"\n",
    "s2 = \"Xyz\"\n",
    "solution(s1, s2)"
   ]
  },
  {
   "cell_type": "code",
   "execution_count": 19,
   "metadata": {
    "scrolled": true
   },
   "outputs": [
    {
     "data": {
      "text/plain": [
       "False"
      ]
     },
     "execution_count": 19,
     "metadata": {},
     "output_type": "execute_result"
    }
   ],
   "source": [
    "# Question 245\n",
    "# String characters balance Test\n",
    "\n",
    "# We’ll say that a String s1 and s2 is balanced if all the chars in the s1 are there in s2. characters position doesn’t matter.\n",
    "\n",
    "# Case 1:\n",
    "\n",
    "# s1 = \"Yn\"\n",
    "# s2 = \"PYnative\"\n",
    "\n",
    "# Expected Output:\n",
    "\n",
    "# True\n",
    "\n",
    "# Case 2:\n",
    "\n",
    "# s1 = \"Ynf\"\n",
    "# s2 = \"PYnative\"\n",
    "\n",
    "# Expected Output:\n",
    "\n",
    "# False\n",
    "\n",
    "# My Solution\n",
    "def is_balanced(s1, s2):\n",
    "    set_s1 = set(list(s1))\n",
    "    set_s2 = set(list(s2))\n",
    "    return set_s1.issubset(set_s2)\n",
    "s1 = \"Yns\"\n",
    "s2 = \"PYnative\"\n",
    "is_balanced(s1, s2)"
   ]
  },
  {
   "cell_type": "code",
   "execution_count": 22,
   "metadata": {},
   "outputs": [
    {
     "data": {
      "text/plain": [
       "1"
      ]
     },
     "execution_count": 22,
     "metadata": {},
     "output_type": "execute_result"
    }
   ],
   "source": [
    "# Question 246\n",
    "# Find all occurrences of “USA” in given string ignoring the case\n",
    "\n",
    "# Given:\n",
    "\n",
    "# str1 = \"Welcome to USA. usa awesome, isn't it?\"\n",
    "\n",
    "# Expected Outcome:\n",
    "\n",
    "# The USA count is: 2\n",
    "\n",
    "# My Solution\n",
    "str1 = \"Welcome to USA. usa awesome, isn't it?\"\n",
    "str1.count(\"USA\")"
   ]
  }
 ],
 "metadata": {
  "kernelspec": {
   "display_name": "Python 3",
   "language": "python",
   "name": "python3"
  },
  "language_info": {
   "codemirror_mode": {
    "name": "ipython",
    "version": 3
   },
   "file_extension": ".py",
   "mimetype": "text/x-python",
   "name": "python",
   "nbconvert_exporter": "python",
   "pygments_lexer": "ipython3",
   "version": "3.7.4"
  },
  "nteract": {
   "version": "0.15.0"
  }
 },
 "nbformat": 4,
 "nbformat_minor": 2
}
