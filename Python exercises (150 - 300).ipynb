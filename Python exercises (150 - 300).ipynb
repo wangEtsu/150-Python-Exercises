{
 "cells": [
  {
   "cell_type": "code",
   "execution_count": 3,
   "metadata": {},
   "outputs": [
    {
     "data": {
      "text/plain": [
       "True"
      ]
     },
     "execution_count": 3,
     "metadata": {},
     "output_type": "execute_result"
    }
   ],
   "source": [
    "# Question 151\n",
    "# Write a Python program to find if a given string starts with a given character using Lambda.\n",
    "\n",
    "# My Solution\n",
    "starts_with = lambda x: True if x.startswith(\"p\") else False\n",
    "starts_with(\"pact\")"
   ]
  },
  {
   "cell_type": "code",
   "execution_count": 12,
   "metadata": {},
   "outputs": [
    {
     "data": {
      "text/plain": [
       "(2020, 13, 4)"
      ]
     },
     "execution_count": 12,
     "metadata": {},
     "output_type": "execute_result"
    }
   ],
   "source": [
    "# Question 152\n",
    "# Write a Python program to extract year, month, date and time using Lambda.\n",
    "\n",
    "# My Solution\n",
    "import datetime\n",
    "now = datetime.datetime.now()\n",
    "extracts = lambda x: (x.year, x.day, x.month)\n",
    "extracts(now)"
   ]
  },
  {
   "cell_type": "code",
   "execution_count": 16,
   "metadata": {},
   "outputs": [
    {
     "data": {
      "text/plain": [
       "True"
      ]
     },
     "execution_count": 16,
     "metadata": {},
     "output_type": "execute_result"
    }
   ],
   "source": [
    "# Question 153\n",
    "# Write a Python program to check whether a given string is number or not using Lambda\n",
    "\n",
    "# My Solution\n",
    "is_number = lambda x: x.isnumeric()\n",
    "is_number(\"3\")"
   ]
  },
  {
   "cell_type": "code",
   "execution_count": 5,
   "metadata": {},
   "outputs": [
    {
     "data": {
      "text/plain": [
       "[0, 1, 1, 2, 3, 5, 8, 13, 21, 34]"
      ]
     },
     "execution_count": 5,
     "metadata": {},
     "output_type": "execute_result"
    }
   ],
   "source": [
    "# Question 154\n",
    "# Write a Python program to create Fibonacci series up to n using Lambda\n",
    "\n",
    "# My Solution\n",
    "from functools import reduce\n",
    "fibonacci = lambda n: reduce(lambda x, _: x+[x[-1]+x[-2]],\n",
    "                                range(n-2), [0, 1])\n",
    "fibonacci(10)"
   ]
  },
  {
   "cell_type": "code",
   "execution_count": 11,
   "metadata": {},
   "outputs": [
    {
     "data": {
      "text/plain": [
       "(True, [3, 5, 8, 9])"
      ]
     },
     "execution_count": 11,
     "metadata": {},
     "output_type": "execute_result"
    }
   ],
   "source": [
    "# Question 155\n",
    "# Write a Python program to find intersection of two given arrays using Lambda\n",
    "\n",
    "# My Solution\n",
    "array_one = [1, 3, 5, 6, 7]\n",
    "array_two = [3, 5, 8, 9]\n",
    "intersection_find = list(filter(lambda x: x in array_one, array_two)) \n",
    "intersection_find\n",
    "3 in array_one, array_two"
   ]
  },
  {
   "cell_type": "code",
   "execution_count": 18,
   "metadata": {},
   "outputs": [
    {
     "data": {
      "text/plain": [
       "[-2, -3, -4, -5, 2, 6, 10]"
      ]
     },
     "execution_count": 18,
     "metadata": {},
     "output_type": "execute_result"
    }
   ],
   "source": [
    "# Question 156\n",
    "# Write a Python program to rearrange positive and negative numbers in a given array using Lambda.\n",
    "\n",
    "# My Solution\n",
    "array_target = [-2, -3, -4, 2, -5, 6, 10]\n",
    "result = [x for x in array_target if x < 0] + [x for x in array_target if x > 0]\n",
    "result"
   ]
  },
  {
   "cell_type": "code",
   "execution_count": 13,
   "metadata": {},
   "outputs": [
    {
     "name": "stdout",
     "output_type": "stream",
     "text": [
      "Number of even number: 5\n",
      "Number of odd number: 3\n"
     ]
    }
   ],
   "source": [
    "# Question 157\n",
    "# Write a Python program to count the even, odd numbers in a given array of integers using Lambda.\n",
    "\n",
    "# My Solution\n",
    "array_target = [2, 4, 6, 7, 10, 12, 15, 13]\n",
    "num_even = [x for x in array_target if x % 2 == 0]\n",
    "num_odd = [x for x in array_target if x % 2 != 0]\n",
    "print(\"Number of even number:\",  len(num_even))\n",
    "print(\"Number of odd number:\", len(num_odd))"
   ]
  },
  {
   "cell_type": "code",
   "execution_count": 16,
   "metadata": {},
   "outputs": [
    {
     "data": {
      "text/plain": [
       "['Monday', 'Friday', 'Sunday']"
      ]
     },
     "execution_count": 16,
     "metadata": {},
     "output_type": "execute_result"
    }
   ],
   "source": [
    "# Question 158\n",
    "# Write a Python program to filter a given list whether the values in the list \n",
    "# are having length of 6 using Lambda.\n",
    "\n",
    "# My Solution\n",
    "weekdays = ['Monday', 'Tuesday', 'Wednesday', 'Thursday', 'Friday', 'Saturday', 'Sunday']\n",
    "length_of_six = filter(lambda x: len(x) == 6, weekdays)\n",
    "list(length_of_six)\n"
   ]
  },
  {
   "cell_type": "code",
   "execution_count": 19,
   "metadata": {},
   "outputs": [
    {
     "data": {
      "text/plain": [
       "[4, 6, 8]"
      ]
     },
     "execution_count": 19,
     "metadata": {},
     "output_type": "execute_result"
    }
   ],
   "source": [
    "# Question 159\n",
    "# Write a Python program to add two given lists using map and lambda\n",
    "\n",
    "# My Solution\n",
    "array_one = [1, 2, 3]\n",
    "array_two = [3, 4, 5]\n",
    "result = list(map(lambda x, y: x + y, array_one, array_two))\n",
    "result"
   ]
  },
  {
   "cell_type": "markdown",
   "metadata": {},
   "source": [
    "### Pynative python exercises\n",
    "https://pynative.com/python-basic-exercise-for-beginners/"
   ]
  },
  {
   "cell_type": "code",
   "execution_count": 1,
   "metadata": {},
   "outputs": [
    {
     "data": {
      "text/plain": [
       "503"
      ]
     },
     "execution_count": 1,
     "metadata": {},
     "output_type": "execute_result"
    }
   ],
   "source": [
    "# Question 160\n",
    "# Given a two integer numbers return their product and  if the product is greater than 1000, then return their sum\n",
    "\n",
    "# My Solution\n",
    "def product_identifier(num1, num2):\n",
    "    product = num1 * num2\n",
    "    if product > 1000:\n",
    "        return num1 + num2\n",
    "    else:\n",
    "        return product\n",
    "product_identifier(3, 500)\n"
   ]
  },
  {
   "cell_type": "code",
   "execution_count": 2,
   "metadata": {},
   "outputs": [
    {
     "name": "stdout",
     "output_type": "stream",
     "text": [
      "previous num:  0 current num:  0 total:  0\n",
      "previous num:  0 current num:  1 total:  1\n",
      "previous num:  1 current num:  2 total:  3\n",
      "previous num:  2 current num:  3 total:  5\n",
      "previous num:  3 current num:  4 total:  7\n",
      "previous num:  4 current num:  5 total:  9\n",
      "previous num:  5 current num:  6 total:  11\n",
      "previous num:  6 current num:  7 total:  13\n",
      "previous num:  7 current num:  8 total:  15\n",
      "previous num:  8 current num:  9 total:  17\n"
     ]
    }
   ],
   "source": [
    "# Question 161\n",
    "# Given a range of first 10 numbers, Iterate from start number to the end number and print the sum of the current number and previous number\n",
    "\n",
    "# My Solution\n",
    "def solution(n):\n",
    "    previous_num = 0\n",
    "    for i in range(n):\n",
    "        total = previous_num + i\n",
    "        print(\"previous num: \", previous_num, \"current num: \", i, \"total: \", total)\n",
    "        previous_num = i\n",
    "solution(10)"
   ]
  },
  {
   "cell_type": "code",
   "execution_count": 3,
   "metadata": {},
   "outputs": [
    {
     "name": "stdout",
     "output_type": "stream",
     "text": [
      "c\n",
      "n\n"
     ]
    }
   ],
   "source": [
    "# Question 162\n",
    "# Given a string, display only those characters which are present at an even index number.\n",
    "\n",
    "# My Solution\n",
    "def solution(s):\n",
    "    counter = 0\n",
    "    for i in s:\n",
    "        if counter % 2 == 0:\n",
    "            print(i)\n",
    "        counter = counter + 1\n",
    "solution(\"cunt\")"
   ]
  },
  {
   "cell_type": "code",
   "execution_count": null,
   "metadata": {},
   "outputs": [],
   "source": [
    "# Question 163\n",
    "# Given a string and an integer number n, \n",
    "# remove characters from a string starting from zero up to n and return a new string\n",
    "\n",
    "# My Solution\n",
    "def solution(s, n):\n",
    "    length = len(s)\n",
    "    if n > length:\n",
    "        return False\n",
    "    else:\n",
    "        return s[n:]\n",
    "solution(\"cunt\", 2)"
   ]
  },
  {
   "cell_type": "code",
   "execution_count": null,
   "metadata": {},
   "outputs": [],
   "source": [
    "# Question 164\n",
    "# Given a list of numbers, return True if first and last number of a list is same\n",
    "\n",
    "# My Solution\n",
    "def equal_or_not(target_list):\n",
    "    first = target_list[0]\n",
    "    last = target_list[len(target_list) - 1]\n",
    "    if first == last:\n",
    "        return True\n",
    "    else:\n",
    "        return False\n",
    "equal_or_not([1, 2, 3, 1, 2])"
   ]
  },
  {
   "cell_type": "code",
   "execution_count": null,
   "metadata": {},
   "outputs": [],
   "source": [
    "# Question 165\n",
    "# Given a list of numbers, Iterate it and print only those numbers which are \n",
    "# divisible of 5\n",
    "\n",
    "# My Solution\n",
    "def solution(target):\n",
    "    for i in target:\n",
    "        if i % 5 == 0:\n",
    "            print(i)\n",
    "        else:\n",
    "            pass\n",
    "solution([1, 4, 5, 10])"
   ]
  },
  {
   "cell_type": "code",
   "execution_count": null,
   "metadata": {},
   "outputs": [],
   "source": [
    "# Question 166\n",
    "# Return the total count of sub-string “Emma” appears in the given string\n",
    "\n",
    "# My Solution\n",
    "def solution(s):\n",
    "    count = s.count(\"Emma\")\n",
    "    return count\n",
    "solution(\"Emma is a bitch, Emma\")"
   ]
  },
  {
   "cell_type": "code",
   "execution_count": 4,
   "metadata": {},
   "outputs": [
    {
     "name": "stdout",
     "output_type": "stream",
     "text": [
      "1\n",
      "22\n",
      "333\n",
      "4444\n",
      "55555\n"
     ]
    }
   ],
   "source": [
    "# Question 167\n",
    "# Print the following pattern\n",
    "# 1 \n",
    "# 2 2 \n",
    "# 3 3 3 \n",
    "# 4 4 4 4 \n",
    "# 5 5 5 5 5\n",
    "\n",
    "# My Solution\n",
    "for i in range(1, 6):\n",
    "    string = \"\"\n",
    "    for j in range (0, i):\n",
    "        string = string + str(i)\n",
    "    print(string)"
   ]
  },
  {
   "cell_type": "code",
   "execution_count": null,
   "metadata": {},
   "outputs": [],
   "source": [
    "# Question 168\n",
    "# Reverse a given number and return true if it is the same as the original number\n",
    "\n",
    "# My Solution\n",
    "def solution(n):\n",
    "    reversed_num = str(n)[::-1]\n",
    "    if str(n) == reversed_num:\n",
    "        return True\n",
    "    else:\n",
    "        return False\n",
    "solution(\"abad\")"
   ]
  },
  {
   "cell_type": "code",
   "execution_count": 5,
   "metadata": {},
   "outputs": [
    {
     "name": "stdout",
     "output_type": "stream",
     "text": [
      "1 2 3 4 5 6 7 8 9 10 \n",
      "2 4 6 8 10 12 14 16 18 20 \n",
      "3 6 9 12 15 18 21 24 27 30 \n",
      "4 8 12 16 20 24 28 32 36 40 \n",
      "5 10 15 20 25 30 35 40 45 50 \n",
      "6 12 18 24 30 36 42 48 54 60 \n",
      "7 14 21 28 35 42 49 56 63 70 \n",
      "8 16 24 32 40 48 56 64 72 80 \n",
      "9 18 27 36 45 54 63 72 81 90 \n",
      "10 20 30 40 50 60 70 80 90 100 \n"
     ]
    }
   ],
   "source": [
    "# Question 169\n",
    "# Print multiplication table form 1 to 10\n",
    "# 1  2 3 4 5 6 7 8 9 10 \t\t\n",
    "# 2  4 6 8 10 12 14 16 18 20 \t\t\n",
    "# 3  6 9 12 15 18 21 24 27 30 \t\t\n",
    "# 4  8 12 16 20 24 28 32 36 40 \t\t\n",
    "# 5  10 15 20 25 30 35 40 45 50 \t\t\n",
    "# 6  12 18 24 30 36 42 48 54 60 \t\t\n",
    "# 7  14 21 28 35 42 49 56 63 70 \t\t\n",
    "# 8  16 24 32 40 48 56 64 72 80 \t\t\n",
    "# 9  18 27 36 45 54 63 72 81 90 \t\t\n",
    "# 10 20 30 40 50 60 70 80 90 100 \n",
    "\n",
    "for i in range(1, 11):\n",
    "    row = \"\"\n",
    "    for j in range(1, 11):\n",
    "        row = row + str(i * j) + \" \"\n",
    "    print(row)"
   ]
  },
  {
   "cell_type": "code",
   "execution_count": 10,
   "metadata": {},
   "outputs": [
    {
     "name": "stdout",
     "output_type": "stream",
     "text": [
      "* * * * * \n",
      "* * * * \n",
      "* * * \n",
      "* * \n",
      "* \n",
      "\n"
     ]
    }
   ],
   "source": [
    "# Question 170\n",
    "# Print downward Half-Pyramid Pattern with Star (asterisk)\n",
    "# * * * * *  \n",
    "# * * * *  \n",
    "# * * *  \n",
    "# * *  \n",
    "# *\n",
    "for i in range (1,7):\n",
    "    row = \"\"\n",
    "    for j in range (1, 7 - i):\n",
    "        row = row + \"*\" + \" \"\n",
    "    print(row)"
   ]
  },
  {
   "cell_type": "code",
   "execution_count": 17,
   "metadata": {},
   "outputs": [
    {
     "data": {
      "text/plain": [
       "8"
      ]
     },
     "execution_count": 17,
     "metadata": {},
     "output_type": "execute_result"
    }
   ],
   "source": [
    "# Question 171\n",
    "# Write a function called exponent(base, exp) that returns an int value of base raises to the power of exp.\n",
    "# Note here exp is a non-negative integer, and the base is an integer.\n",
    "\n",
    "# Expected Output:\n",
    "\n",
    "# Case 1:\n",
    "\n",
    "# base = 2\n",
    "# exponent = 5\n",
    "\n",
    "# 2 raises to the power of 5 is: 32 i.e. (2 *2 * 2 *2 *2 = 32)\n",
    "\n",
    "# My Solution\n",
    "def exponent(base, exp):\n",
    "    result = base\n",
    "    for i in range(1, exp):\n",
    "        result = result * base\n",
    "    return result\n",
    "exponent(2, 3)"
   ]
  },
  {
   "cell_type": "code",
   "execution_count": null,
   "metadata": {},
   "outputs": [],
   "source": []
  }
 ],
 "metadata": {
  "kernelspec": {
   "display_name": "Python 3",
   "language": "python",
   "name": "python3"
  },
  "language_info": {
   "codemirror_mode": {
    "name": "ipython",
    "version": 3
   },
   "file_extension": ".py",
   "mimetype": "text/x-python",
   "name": "python",
   "nbconvert_exporter": "python",
   "pygments_lexer": "ipython3",
   "version": "3.7.4"
  },
  "nteract": {
   "version": "0.15.0"
  }
 },
 "nbformat": 4,
 "nbformat_minor": 2
}
