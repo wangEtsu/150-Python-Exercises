{
 "cells": [
  {
   "cell_type": "code",
   "execution_count": 3,
   "metadata": {},
   "outputs": [
    {
     "data": {
      "text/plain": [
       "True"
      ]
     },
     "execution_count": 3,
     "metadata": {},
     "output_type": "execute_result"
    }
   ],
   "source": [
    "# Question 151\n",
    "# Write a Python program to find if a given string starts with a given character using Lambda.\n",
    "\n",
    "# My Solution\n",
    "starts_with = lambda x: True if x.startswith(\"p\") else False\n",
    "starts_with(\"pact\")"
   ]
  },
  {
   "cell_type": "code",
   "execution_count": 12,
   "metadata": {},
   "outputs": [
    {
     "data": {
      "text/plain": [
       "(2020, 13, 4)"
      ]
     },
     "execution_count": 12,
     "metadata": {},
     "output_type": "execute_result"
    }
   ],
   "source": [
    "# Question 152\n",
    "# Write a Python program to extract year, month, date and time using Lambda.\n",
    "\n",
    "# My Solution\n",
    "import datetime\n",
    "now = datetime.datetime.now()\n",
    "extracts = lambda x: (x.year, x.day, x.month)\n",
    "extracts(now)"
   ]
  },
  {
   "cell_type": "code",
   "execution_count": 16,
   "metadata": {},
   "outputs": [
    {
     "data": {
      "text/plain": [
       "True"
      ]
     },
     "execution_count": 16,
     "metadata": {},
     "output_type": "execute_result"
    }
   ],
   "source": [
    "# Question 153\n",
    "# Write a Python program to check whether a given string is number or not using Lambda\n",
    "\n",
    "# My Solution\n",
    "is_number = lambda x: x.isnumeric()\n",
    "is_number(\"3\")"
   ]
  },
  {
   "cell_type": "code",
   "execution_count": 5,
   "metadata": {},
   "outputs": [
    {
     "data": {
      "text/plain": [
       "[0, 1, 1, 2, 3, 5, 8, 13, 21, 34]"
      ]
     },
     "execution_count": 5,
     "metadata": {},
     "output_type": "execute_result"
    }
   ],
   "source": [
    "# Question 154\n",
    "# Write a Python program to create Fibonacci series up to n using Lambda\n",
    "\n",
    "# My Solution\n",
    "from functools import reduce\n",
    "fibonacci = lambda n: reduce(lambda x, _: x+[x[-1]+x[-2]],\n",
    "                                range(n-2), [0, 1])\n",
    "fibonacci(10)"
   ]
  },
  {
   "cell_type": "code",
   "execution_count": 11,
   "metadata": {},
   "outputs": [
    {
     "data": {
      "text/plain": [
       "(True, [3, 5, 8, 9])"
      ]
     },
     "execution_count": 11,
     "metadata": {},
     "output_type": "execute_result"
    }
   ],
   "source": [
    "# Question 155\n",
    "# Write a Python program to find intersection of two given arrays using Lambda\n",
    "\n",
    "# My Solution\n",
    "array_one = [1, 3, 5, 6, 7]\n",
    "array_two = [3, 5, 8, 9]\n",
    "intersection_find = list(filter(lambda x: x in array_one, array_two)) \n",
    "intersection_find\n",
    "3 in array_one, array_two"
   ]
  },
  {
   "cell_type": "code",
   "execution_count": 18,
   "metadata": {},
   "outputs": [
    {
     "data": {
      "text/plain": [
       "[-2, -3, -4, -5, 2, 6, 10]"
      ]
     },
     "execution_count": 18,
     "metadata": {},
     "output_type": "execute_result"
    }
   ],
   "source": [
    "# Question 156\n",
    "# Write a Python program to rearrange positive and negative numbers in a given array using Lambda.\n",
    "\n",
    "# My Solution\n",
    "array_target = [-2, -3, -4, 2, -5, 6, 10]\n",
    "result = [x for x in array_target if x < 0] + [x for x in array_target if x > 0]\n",
    "result"
   ]
  },
  {
   "cell_type": "code",
   "execution_count": 13,
   "metadata": {},
   "outputs": [
    {
     "name": "stdout",
     "output_type": "stream",
     "text": [
      "Number of even number: 5\n",
      "Number of odd number: 3\n"
     ]
    }
   ],
   "source": [
    "# Question 157\n",
    "# Write a Python program to count the even, odd numbers in a given array of integers using Lambda.\n",
    "\n",
    "# My Solution\n",
    "array_target = [2, 4, 6, 7, 10, 12, 15, 13]\n",
    "num_even = [x for x in array_target if x % 2 == 0]\n",
    "num_odd = [x for x in array_target if x % 2 != 0]\n",
    "print(\"Number of even number:\",  len(num_even))\n",
    "print(\"Number of odd number:\", len(num_odd))"
   ]
  },
  {
   "cell_type": "code",
   "execution_count": 16,
   "metadata": {},
   "outputs": [
    {
     "data": {
      "text/plain": [
       "['Monday', 'Friday', 'Sunday']"
      ]
     },
     "execution_count": 16,
     "metadata": {},
     "output_type": "execute_result"
    }
   ],
   "source": [
    "# Question 158\n",
    "# Write a Python program to filter a given list whether the values in the list \n",
    "# are having length of 6 using Lambda.\n",
    "\n",
    "# My Solution\n",
    "weekdays = ['Monday', 'Tuesday', 'Wednesday', 'Thursday', 'Friday', 'Saturday', 'Sunday']\n",
    "length_of_six = filter(lambda x: len(x) == 6, weekdays)\n",
    "list(length_of_six)\n"
   ]
  },
  {
   "cell_type": "code",
   "execution_count": 19,
   "metadata": {},
   "outputs": [
    {
     "data": {
      "text/plain": [
       "[4, 6, 8]"
      ]
     },
     "execution_count": 19,
     "metadata": {},
     "output_type": "execute_result"
    }
   ],
   "source": [
    "# Question 159\n",
    "# Write a Python program to add two given lists using map and lambda\n",
    "\n",
    "# My Solution\n",
    "array_one = [1, 2, 3]\n",
    "array_two = [3, 4, 5]\n",
    "result = list(map(lambda x, y: x + y, array_one, array_two))\n",
    "result"
   ]
  },
  {
   "cell_type": "markdown",
   "metadata": {},
   "source": [
    "### Pynative python exercises\n",
    "https://pynative.com/python-basic-exercise-for-beginners/"
   ]
  },
  {
   "cell_type": "code",
   "execution_count": 1,
   "metadata": {},
   "outputs": [
    {
     "data": {
      "text/plain": [
       "503"
      ]
     },
     "execution_count": 1,
     "metadata": {},
     "output_type": "execute_result"
    }
   ],
   "source": [
    "# Question 160\n",
    "# Given a two integer numbers return their product and  if the product is greater than 1000, then return their sum\n",
    "\n",
    "# My Solution\n",
    "def product_identifier(num1, num2):\n",
    "    product = num1 * num2\n",
    "    if product > 1000:\n",
    "        return num1 + num2\n",
    "    else:\n",
    "        return product\n",
    "product_identifier(3, 500)\n"
   ]
  },
  {
   "cell_type": "code",
   "execution_count": 2,
   "metadata": {},
   "outputs": [
    {
     "name": "stdout",
     "output_type": "stream",
     "text": [
      "previous num:  0 current num:  0 total:  0\n",
      "previous num:  0 current num:  1 total:  1\n",
      "previous num:  1 current num:  2 total:  3\n",
      "previous num:  2 current num:  3 total:  5\n",
      "previous num:  3 current num:  4 total:  7\n",
      "previous num:  4 current num:  5 total:  9\n",
      "previous num:  5 current num:  6 total:  11\n",
      "previous num:  6 current num:  7 total:  13\n",
      "previous num:  7 current num:  8 total:  15\n",
      "previous num:  8 current num:  9 total:  17\n"
     ]
    }
   ],
   "source": [
    "# Question 161\n",
    "# Given a range of first 10 numbers, Iterate from start number to the end number and print the sum of the current number and previous number\n",
    "\n",
    "# My Solution\n",
    "def solution(n):\n",
    "    previous_num = 0\n",
    "    for i in range(n):\n",
    "        total = previous_num + i\n",
    "        print(\"previous num: \", previous_num, \"current num: \", i, \"total: \", total)\n",
    "        previous_num = i\n",
    "solution(10)"
   ]
  },
  {
   "cell_type": "code",
   "execution_count": 3,
   "metadata": {},
   "outputs": [
    {
     "name": "stdout",
     "output_type": "stream",
     "text": [
      "c\n",
      "n\n"
     ]
    }
   ],
   "source": [
    "# Question 162\n",
    "# Given a string, display only those characters which are present at an even index number.\n",
    "\n",
    "# My Solution\n",
    "def solution(s):\n",
    "    counter = 0\n",
    "    for i in s:\n",
    "        if counter % 2 == 0:\n",
    "            print(i)\n",
    "        counter = counter + 1\n",
    "solution(\"cunt\")"
   ]
  },
  {
   "cell_type": "code",
   "execution_count": null,
   "metadata": {},
   "outputs": [],
   "source": [
    "# Question 163\n",
    "# Given a string and an integer number n, \n",
    "# remove characters from a string starting from zero up to n and return a new string\n",
    "\n",
    "# My Solution\n",
    "def solution(s, n):\n",
    "    length = len(s)\n",
    "    if n > length:\n",
    "        return False\n",
    "    else:\n",
    "        return s[n:]\n",
    "solution(\"cunt\", 2)"
   ]
  },
  {
   "cell_type": "code",
   "execution_count": null,
   "metadata": {},
   "outputs": [],
   "source": [
    "# Question 164\n",
    "# Given a list of numbers, return True if first and last number of a list is same\n",
    "\n",
    "# My Solution\n",
    "def equal_or_not(target_list):\n",
    "    first = target_list[0]\n",
    "    last = target_list[len(target_list) - 1]\n",
    "    if first == last:\n",
    "        return True\n",
    "    else:\n",
    "        return False\n",
    "equal_or_not([1, 2, 3, 1, 2])"
   ]
  },
  {
   "cell_type": "code",
   "execution_count": null,
   "metadata": {},
   "outputs": [],
   "source": [
    "# Question 165\n",
    "# Given a list of numbers, Iterate it and print only those numbers which are \n",
    "# divisible of 5\n",
    "\n",
    "# My Solution\n",
    "def solution(target):\n",
    "    for i in target:\n",
    "        if i % 5 == 0:\n",
    "            print(i)\n",
    "        else:\n",
    "            pass\n",
    "solution([1, 4, 5, 10])"
   ]
  },
  {
   "cell_type": "code",
   "execution_count": null,
   "metadata": {},
   "outputs": [],
   "source": [
    "# Question 166\n",
    "# Return the total count of sub-string “Emma” appears in the given string\n",
    "\n",
    "# My Solution\n",
    "def solution(s):\n",
    "    count = s.count(\"Emma\")\n",
    "    return count\n",
    "solution(\"Emma is a bitch, Emma\")"
   ]
  },
  {
   "cell_type": "code",
   "execution_count": 4,
   "metadata": {},
   "outputs": [
    {
     "name": "stdout",
     "output_type": "stream",
     "text": [
      "1\n",
      "22\n",
      "333\n",
      "4444\n",
      "55555\n"
     ]
    }
   ],
   "source": [
    "# Question 167\n",
    "# Print the following pattern\n",
    "# 1 \n",
    "# 2 2 \n",
    "# 3 3 3 \n",
    "# 4 4 4 4 \n",
    "# 5 5 5 5 5\n",
    "\n",
    "# My Solution\n",
    "for i in range(1, 6):\n",
    "    string = \"\"\n",
    "    for j in range (0, i):\n",
    "        string = string + str(i)\n",
    "    print(string)"
   ]
  },
  {
   "cell_type": "code",
   "execution_count": null,
   "metadata": {},
   "outputs": [],
   "source": [
    "# Question 168\n",
    "# Reverse a given number and return true if it is the same as the original number\n",
    "\n",
    "# My Solution\n",
    "def solution(n):\n",
    "    reversed_num = str(n)[::-1]\n",
    "    if str(n) == reversed_num:\n",
    "        return True\n",
    "    else:\n",
    "        return False\n",
    "solution(\"abad\")"
   ]
  },
  {
   "cell_type": "code",
   "execution_count": 5,
   "metadata": {},
   "outputs": [
    {
     "name": "stdout",
     "output_type": "stream",
     "text": [
      "1 2 3 4 5 6 7 8 9 10 \n",
      "2 4 6 8 10 12 14 16 18 20 \n",
      "3 6 9 12 15 18 21 24 27 30 \n",
      "4 8 12 16 20 24 28 32 36 40 \n",
      "5 10 15 20 25 30 35 40 45 50 \n",
      "6 12 18 24 30 36 42 48 54 60 \n",
      "7 14 21 28 35 42 49 56 63 70 \n",
      "8 16 24 32 40 48 56 64 72 80 \n",
      "9 18 27 36 45 54 63 72 81 90 \n",
      "10 20 30 40 50 60 70 80 90 100 \n"
     ]
    }
   ],
   "source": [
    "# Question 169\n",
    "# Print multiplication table form 1 to 10\n",
    "# 1  2 3 4 5 6 7 8 9 10 \t\t\n",
    "# 2  4 6 8 10 12 14 16 18 20 \t\t\n",
    "# 3  6 9 12 15 18 21 24 27 30 \t\t\n",
    "# 4  8 12 16 20 24 28 32 36 40 \t\t\n",
    "# 5  10 15 20 25 30 35 40 45 50 \t\t\n",
    "# 6  12 18 24 30 36 42 48 54 60 \t\t\n",
    "# 7  14 21 28 35 42 49 56 63 70 \t\t\n",
    "# 8  16 24 32 40 48 56 64 72 80 \t\t\n",
    "# 9  18 27 36 45 54 63 72 81 90 \t\t\n",
    "# 10 20 30 40 50 60 70 80 90 100 \n",
    "\n",
    "for i in range(1, 11):\n",
    "    row = \"\"\n",
    "    for j in range(1, 11):\n",
    "        row = row + str(i * j) + \" \"\n",
    "    print(row)"
   ]
  },
  {
   "cell_type": "code",
   "execution_count": 10,
   "metadata": {},
   "outputs": [
    {
     "name": "stdout",
     "output_type": "stream",
     "text": [
      "* * * * * \n",
      "* * * * \n",
      "* * * \n",
      "* * \n",
      "* \n",
      "\n"
     ]
    }
   ],
   "source": [
    "# Question 170\n",
    "# Print downward Half-Pyramid Pattern with Star (asterisk)\n",
    "# * * * * *  \n",
    "# * * * *  \n",
    "# * * *  \n",
    "# * *  \n",
    "# *\n",
    "for i in range (1,7):\n",
    "    row = \"\"\n",
    "    for j in range (1, 7 - i):\n",
    "        row = row + \"*\" + \" \"\n",
    "    print(row)"
   ]
  },
  {
   "cell_type": "code",
   "execution_count": 17,
   "metadata": {},
   "outputs": [
    {
     "data": {
      "text/plain": [
       "8"
      ]
     },
     "execution_count": 17,
     "metadata": {},
     "output_type": "execute_result"
    }
   ],
   "source": [
    "# Question 171\n",
    "# Write a function called exponent(base, exp) that returns an int value of base raises to the power of exp.\n",
    "# Note here exp is a non-negative integer, and the base is an integer.\n",
    "\n",
    "# Expected Output:\n",
    "\n",
    "# Case 1:\n",
    "\n",
    "# base = 2\n",
    "# exponent = 5\n",
    "\n",
    "# 2 raises to the power of 5 is: 32 i.e. (2 *2 * 2 *2 *2 = 32)\n",
    "\n",
    "# My Solution\n",
    "def exponent(base, exp):\n",
    "    result = base\n",
    "    for i in range(1, exp):\n",
    "        result = result * base\n",
    "    return result\n",
    "exponent(2, 3)"
   ]
  },
  {
   "cell_type": "markdown",
   "metadata": {},
   "source": [
    "### Pynative Loop exercises\n",
    "https://pynative.com/python-if-else-and-for-loop-exercise-with-solutions/"
   ]
  },
  {
   "cell_type": "code",
   "execution_count": 20,
   "metadata": {
    "scrolled": true
   },
   "outputs": [
    {
     "name": "stdout",
     "output_type": "stream",
     "text": [
      "0\n",
      "1\n",
      "2\n",
      "3\n",
      "4\n",
      "5\n",
      "6\n",
      "7\n",
      "8\n",
      "9\n",
      "10\n"
     ]
    }
   ],
   "source": [
    "# Question 172\n",
    "# Print First 10 natural numbers using while loop\n",
    "\n",
    "# My Solution\n",
    "i = 0\n",
    "while i < 11:\n",
    "    print(i)\n",
    "    i = i + 1"
   ]
  },
  {
   "cell_type": "code",
   "execution_count": 25,
   "metadata": {},
   "outputs": [
    {
     "name": "stdout",
     "output_type": "stream",
     "text": [
      "1\n",
      "12\n",
      "123\n",
      "1234\n",
      "12345\n"
     ]
    }
   ],
   "source": [
    "# Question 173\n",
    "# Print the following pattern\n",
    "# 1 \n",
    "# 1 2 \n",
    "# 1 2 3 \n",
    "# 1 2 3 4 \n",
    "# 1 2 3 4 5\n",
    "\n",
    "# My Solution\n",
    "for i in range(1, 6):\n",
    "    row = \"\"\n",
    "    for j in range(1, i + 1):\n",
    "        row = row + str(j)\n",
    "    print(row)"
   ]
  },
  {
   "cell_type": "code",
   "execution_count": 29,
   "metadata": {},
   "outputs": [
    {
     "name": "stdout",
     "output_type": "stream",
     "text": [
      "1\n",
      "2\n",
      "3\n",
      "4\n",
      "5\n",
      "6\n",
      "7\n",
      "8\n",
      "9\n",
      "10\n"
     ]
    },
    {
     "data": {
      "text/plain": [
       "55"
      ]
     },
     "execution_count": 29,
     "metadata": {},
     "output_type": "execute_result"
    }
   ],
   "source": [
    "# Question 174\n",
    "# Accept number from user and calculate the sum of all number between 1 and given number\n",
    "# For example user given 10 so the output should be 55\n",
    "\n",
    "# My Solution\n",
    "def solution(given):\n",
    "    result = 0\n",
    "    for i in range(1, given + 1):\n",
    "        print(i)\n",
    "        result = result + i\n",
    "    return result\n",
    "solution(10)"
   ]
  },
  {
   "cell_type": "code",
   "execution_count": 31,
   "metadata": {},
   "outputs": [
    {
     "name": "stdout",
     "output_type": "stream",
     "text": [
      "2\n",
      "4\n",
      "6\n",
      "8\n",
      "10\n",
      "12\n",
      "14\n",
      "16\n",
      "18\n",
      "20\n"
     ]
    }
   ],
   "source": [
    "# Question 175\n",
    "# Print multiplication table of given number\n",
    "\n",
    "# My Solution\n",
    "def solution(given):\n",
    "    for i in range(1, 11):\n",
    "        print(given * i)\n",
    "solution(2)"
   ]
  },
  {
   "cell_type": "code",
   "execution_count": 35,
   "metadata": {},
   "outputs": [
    {
     "name": "stdout",
     "output_type": "stream",
     "text": [
      "15\n",
      "55\n",
      "75\n",
      "150\n"
     ]
    }
   ],
   "source": [
    "# Question 176\n",
    "# Given a list iterate it and display numbers which are divisible\n",
    "# by 5 and if you find number greater than 150 stop the loop iteration\n",
    "\n",
    "# list1 = [12, 15, 32, 42, 55, 75, 122, 132, 150, 180, 200]\n",
    "\n",
    "# My Solution\n",
    "def solution(target_list):\n",
    "    for i in target_list:\n",
    "        if i > 150:\n",
    "            break\n",
    "        else:\n",
    "            if i % 5 == 0:\n",
    "                print(i)\n",
    "list1 = [12, 15, 32, 42, 55, 75, 122, 132, 150, 180, 200]\n",
    "solution(list1)"
   ]
  },
  {
   "cell_type": "code",
   "execution_count": 3,
   "metadata": {},
   "outputs": [
    {
     "data": {
      "text/plain": [
       "6"
      ]
     },
     "execution_count": 3,
     "metadata": {},
     "output_type": "execute_result"
    }
   ],
   "source": [
    "# Question 177\n",
    "# Given a number count the total number of digits in a number\n",
    "# For example, the number is 75869, so the output should be 5.\n",
    "\n",
    "# My Solution\n",
    "def digit_count(n):\n",
    "    return len(str(n))\n",
    "digit_count(123456)"
   ]
  },
  {
   "cell_type": "code",
   "execution_count": 27,
   "metadata": {},
   "outputs": [
    {
     "name": "stdout",
     "output_type": "stream",
     "text": [
      "5 4 3 2 1 \n",
      "4 3 2 1 \n",
      "3 2 1 \n",
      "2 1 \n",
      "1 \n"
     ]
    }
   ],
   "source": [
    "# Question 178\n",
    "# Print the following pattern using for loop\n",
    "# 5 4 3 2 1 \n",
    "# 4 3 2 1 \n",
    "# 3 2 1 \n",
    "# 2 1 \n",
    "# 1\n",
    "\n",
    "# My Solution\n",
    "for i in range(1, 6):\n",
    "    row = \"\"\n",
    "    for j in range(6 - i, 0, -1):\n",
    "        row += str(j) + \" \"\n",
    "    print(row)\n",
    "\n",
    "# 5 4 3 2 1\n"
   ]
  },
  {
   "cell_type": "markdown",
   "metadata": {},
   "source": [
    "### range(start, end, -1) literate through decending order"
   ]
  },
  {
   "cell_type": "code",
   "execution_count": 41,
   "metadata": {},
   "outputs": [
    {
     "name": "stdout",
     "output_type": "stream",
     "text": [
      "50\n",
      "40\n",
      "30\n",
      "20\n",
      "10\n"
     ]
    }
   ],
   "source": [
    "# Question 179\n",
    "# Reverse the following list using for loop\n",
    "# list1 = [10, 20, 30, 40, 50]\n",
    "\n",
    "# My Solution\n",
    "def list_reverse(target):\n",
    "    result = []\n",
    "    for i in range(len(target)):\n",
    "        result.append(0)\n",
    "    index_count = 0\n",
    "    for i in target:\n",
    "        result[len(target) - index_count - 1] = i\n",
    "        index_count += 1\n",
    "    return result\n",
    "list1 = [10, 20, 30, 40, 50]\n",
    "list_reverse(list1)\n",
    "\n",
    "# Their solution\n",
    "# list1 = [10, 20, 30, 40, 50]\n",
    "# start = len(list1) - 1\n",
    "# stop = -1\n",
    "# step = -1\n",
    "# for i in range(start, stop, step):\n",
    "#     print(list1[i])"
   ]
  },
  {
   "cell_type": "code",
   "execution_count": 42,
   "metadata": {},
   "outputs": [
    {
     "name": "stdout",
     "output_type": "stream",
     "text": [
      "-10\n",
      "-9\n",
      "-8\n",
      "-7\n",
      "-6\n",
      "-5\n",
      "-4\n",
      "-3\n",
      "-2\n",
      "-1\n"
     ]
    }
   ],
   "source": [
    "# Question 180\n",
    "# Display -10 to -1 using for loop\n",
    "\n",
    "# My Solution\n",
    "for i in range (-10, 0, 1):\n",
    "    print(i)"
   ]
  },
  {
   "cell_type": "code",
   "execution_count": 44,
   "metadata": {},
   "outputs": [
    {
     "name": "stdout",
     "output_type": "stream",
     "text": [
      "0\n",
      "1\n",
      "2\n",
      "3\n",
      "4\n",
      "done\n"
     ]
    }
   ],
   "source": [
    "# Question 181\n",
    "# Display a message “Done” after successful execution of for loop\n",
    "\n",
    "# My Solution\n",
    "for i in range(5):\n",
    "    print(i)\n",
    "else:\n",
    "    print(\"done\")"
   ]
  },
  {
   "cell_type": "markdown",
   "metadata": {},
   "source": [
    "### Pynative function exercises\n",
    "https://pynative.com/python-functions-exercise-with-solutions/"
   ]
  },
  {
   "cell_type": "code",
   "execution_count": 1,
   "metadata": {},
   "outputs": [
    {
     "name": "stdout",
     "output_type": "stream",
     "text": [
      "yue 25\n"
     ]
    }
   ],
   "source": [
    "# Question 182\n",
    "# Create a function that can accept two arguments name and age and print its value\n",
    "\n",
    "# My Solution\n",
    "def solution(name, age):\n",
    "    print(name, age)\n",
    "solution(\"yue\", 25)"
   ]
  },
  {
   "cell_type": "code",
   "execution_count": 5,
   "metadata": {},
   "outputs": [
    {
     "name": "stdout",
     "output_type": "stream",
     "text": [
      "20\n",
      "30\n",
      "40\n"
     ]
    }
   ],
   "source": [
    "# Question 183\n",
    "# Write a function func1() such that it can accept a variable length of  argument and print all arguments value\n",
    "\n",
    "# My Solution\n",
    "def solution(*argv):\n",
    "    for i in argv:\n",
    "        print(i)\n",
    "solution(20, 30, 40)"
   ]
  },
  {
   "cell_type": "code",
   "execution_count": 7,
   "metadata": {},
   "outputs": [
    {
     "data": {
      "text/plain": [
       "(5, -1)"
      ]
     },
     "execution_count": 7,
     "metadata": {},
     "output_type": "execute_result"
    }
   ],
   "source": [
    "# Question 184\n",
    "# Write a function calculation() such that it can accept two variables and \n",
    "# calculate the addition and subtraction of it. And also it must return both addition and subtraction in a single return call\n",
    "\n",
    "# My Solution\n",
    "def solution(num1, num2):\n",
    "    addition = num1 + num2\n",
    "    subtraction = num1 - num2\n",
    "    return addition, subtraction\n",
    "solution(2, 3)"
   ]
  },
  {
   "cell_type": "code",
   "execution_count": 10,
   "metadata": {},
   "outputs": [
    {
     "name": "stdout",
     "output_type": "stream",
     "text": [
      "Yue 3\n",
      "Bob 9000\n"
     ]
    }
   ],
   "source": [
    "# Question 185\n",
    "# Create a function showEmployee() in such a way that it should accept employee name, \n",
    "# and it’s salary and display both, and if the salary is missing in function call it should show it as 9000\n",
    "\n",
    "# My Solution\n",
    "def solution(name, salary=9000):\n",
    "    print(name, salary)\n",
    "solution(\"Yue\", 3)\n",
    "solution(\"Bob\")"
   ]
  },
  {
   "cell_type": "code",
   "execution_count": 12,
   "metadata": {},
   "outputs": [
    {
     "data": {
      "text/plain": [
       "10"
      ]
     },
     "execution_count": 12,
     "metadata": {},
     "output_type": "execute_result"
    }
   ],
   "source": [
    "# Question 186\n",
    "# Create an inner function to calculate the addition in the following way\n",
    "#     Create an outer function that will accept two parameters a and b\n",
    "#     Create an inner function inside an outer function that will calculate the addition of a and b\n",
    "#     At last, an outer function will add 5 into addition and return it\n",
    "# My Solution\n",
    "def outer(a, b):\n",
    "    def inner(a, b):\n",
    "        return a + b\n",
    "    return inner(a, b) + 5\n",
    "outer(2, 3)"
   ]
  },
  {
   "cell_type": "code",
   "execution_count": 2,
   "metadata": {},
   "outputs": [
    {
     "data": {
      "text/plain": [
       "55"
      ]
     },
     "execution_count": 2,
     "metadata": {},
     "output_type": "execute_result"
    }
   ],
   "source": [
    "# Question 187\n",
    "# Write a recursive function to calculate the sum of numbers from 0 to 10\n",
    "\n",
    "# My Solution\n",
    "def recrusive(n):\n",
    "    if n:\n",
    "        return n + recrusive(n - 1)\n",
    "    else:\n",
    "        return 0\n",
    "recrusive(10)"
   ]
  },
  {
   "cell_type": "code",
   "execution_count": 5,
   "metadata": {},
   "outputs": [
    {
     "name": "stdout",
     "output_type": "stream",
     "text": [
      "Emma 29\n"
     ]
    }
   ],
   "source": [
    "# Question 188\n",
    "# Assign a different name to function and call it through the new name\n",
    "\n",
    "# My Solution\n",
    "# Below is the function displayStudent(name, age). Assign a new name showStudent(name, age)  to it and call through the new name\n",
    "\n",
    "# def displayStudent(name, age):\n",
    "#     print(name, age)\n",
    "\n",
    "# displayStudent(\"Emma\", 26)\n",
    "\n",
    "# My Solution\n",
    "def displayStudent(name, age):\n",
    "    print(name, age)\n",
    "showStudent = displayStudent \n",
    "showStudent(\"Emma\", 29)"
   ]
  },
  {
   "cell_type": "code",
   "execution_count": 6,
   "metadata": {},
   "outputs": [
    {
     "data": {
      "text/plain": [
       "[4, 6, 8, 10, 12, 14, 16, 18, 20, 22, 24, 26, 28, 30]"
      ]
     },
     "execution_count": 6,
     "metadata": {},
     "output_type": "execute_result"
    }
   ],
   "source": [
    "# Question 189\n",
    "# Generate a Python list of all the even numbers between 4 to 30\n",
    "\n",
    "# My Solution\n",
    "def generator(start, stop):\n",
    "    result = []\n",
    "    for i in range(start, stop + 1):\n",
    "        if i % 2 == 0:\n",
    "            result.append(i)\n",
    "    return result\n",
    "generator(4, 30)\n",
    "   \n",
    "# Their Solution\n",
    "print(list( range(4, 30, 2)))"
   ]
  },
  {
   "cell_type": "code",
   "execution_count": 8,
   "metadata": {},
   "outputs": [
    {
     "data": {
      "text/plain": [
       "24"
      ]
     },
     "execution_count": 8,
     "metadata": {},
     "output_type": "execute_result"
    }
   ],
   "source": [
    "# Question 190\n",
    "# Return the largest item from the given list\n",
    "\n",
    "# aList = [4, 6, 8, 24, 12, 2]\n",
    "\n",
    "# Expected Output:\n",
    "\n",
    "# 24\n",
    "\n",
    "# My Solution\n",
    "def return_largest(target):\n",
    "    largest = 0\n",
    "    for i in target:\n",
    "        if i >= largest:\n",
    "            largest = i\n",
    "    return largest\n",
    "aList = [4, 6, 8, 24, 12, 2]\n",
    "return_largest(aList)"
   ]
  },
  {
   "cell_type": "markdown",
   "metadata": {},
   "source": [
    "### Pynative data structure\n",
    "https://pynative.com/python-data-structure-exercise-for-beginners/"
   ]
  },
  {
   "cell_type": "code",
   "execution_count": 14,
   "metadata": {},
   "outputs": [
    {
     "data": {
      "text/plain": [
       "[6, 12, 18, 4, 12, 20, 28]"
      ]
     },
     "execution_count": 14,
     "metadata": {},
     "output_type": "execute_result"
    }
   ],
   "source": [
    "# Question 191\n",
    "# Given a two list. Create a third list by picking an odd-index element from the first list and even index elements from second.\n",
    "\n",
    "# For Example:\n",
    "\n",
    "# listOne = [3, 6, 9, 12, 15, 18, 21]\n",
    "# listTwo = [4, 8, 12, 16, 20, 24, 28]\n",
    "\n",
    "# Expected Output:\n",
    "\n",
    "# Element at odd-index positions from list one\n",
    "# [6, 12, 18]\n",
    "# Element at even-index positions from list two\n",
    "# [4, 12, 20, 28]\n",
    "# Printing Final third list\n",
    "# [6, 12, 18, 4, 12, 20, 28]\n",
    "\n",
    "\n",
    "# My Solution\n",
    "def list_merge(list1, list2):\n",
    "    result = []\n",
    "    for idx, val in enumerate(list1):\n",
    "        if idx % 2 != 0:\n",
    "            result.append(val)\n",
    "    for idx, val in enumerate(list2):\n",
    "        if idx % 2 == 0:\n",
    "            result.append(val)\n",
    "    return result\n",
    "list1 = [3, 6, 9, 12, 15, 18, 21]\n",
    "list2 = [4, 8, 12, 16, 20, 24, 28]\n",
    "\n",
    "list_merge(list1, list2)\n",
    "\n",
    "# Their solution\n",
    "# listOne = [3, 6, 9, 12, 15, 18, 21]\n",
    "# listTwo = [4, 8, 12, 16, 20, 24, 28]\n",
    "# listThree = list()\n",
    "\n",
    "# oddElements = listOne[1::2]\n",
    "# print(\"Element at odd-index positions from list one\")\n",
    "# print(oddElements)\n",
    "\n",
    "# EvenElement = listTwo[0::2]\n",
    "# print(\"Element at even-index positions from list two\")\n",
    "# print(EvenElement)\n",
    "\n",
    "# print(\"Printing Final third list\")\n",
    "# listThree.extend(oddElements)\n",
    "# listThree.extend(EvenElement)\n",
    "# print(listThree)"
   ]
  },
  {
   "cell_type": "code",
   "execution_count": 21,
   "metadata": {},
   "outputs": [
    {
     "data": {
      "text/plain": [
       "[34, 54, 11, 67, 89, 43, 94, 11]"
      ]
     },
     "execution_count": 21,
     "metadata": {},
     "output_type": "execute_result"
    }
   ],
   "source": [
    "# Question 192\n",
    "# Given an input list removes the element at index 4 and add it to the 2nd position and also, at the end of the list\n",
    "# For example: List = [54, 44, 27, 79, 91, 41]\n",
    "\n",
    "# Expected Output:\n",
    "\n",
    "# Original list  [34, 54, 67, 89, 11, 43, 94]\n",
    "# List After removing element at index 4  [34, 54, 67, 89, 43, 94]\n",
    "# List after Adding element at index 2  [34, 54, 11, 67, 89, 43, 94]\n",
    "# List after Adding element at last  [34, 54, 11, 67, 89, 43, 94, 11]\n",
    "\n",
    "# My Solution\n",
    "# def solution(target):\n",
    "#     length = len(target)\n",
    "#     fifth = target[4]\n",
    "#     target.pop(4)\n",
    "#     result = []\n",
    "#     print(target)\n",
    "#     for index, value in enumerate(target):\n",
    "#         if index == 2:\n",
    "#             result.append(fifth)\n",
    "#             result.append(target[2])\n",
    "#         else:\n",
    "#             result.append(value)\n",
    "#     result.append(fifth)\n",
    "#     return result\n",
    "# original = [34, 54, 67, 89, 11, 43, 94]\n",
    "# solution(original)\n",
    "\n",
    "# Their Sotlution\n",
    "original = [34, 54, 67, 89, 11, 43, 94]\n",
    "fifth = original.pop(4)\n",
    "original.insert(2, fifth)\n",
    "original.append(fifth)\n",
    "original"
   ]
  },
  {
   "cell_type": "code",
   "execution_count": 41,
   "metadata": {},
   "outputs": [
    {
     "name": "stdout",
     "output_type": "stream",
     "text": [
      "[8, 45, 11]\n",
      "[23, 14, 12]\n",
      "[78, 45, 89]\n"
     ]
    }
   ],
   "source": [
    "# Question 193\n",
    "# Given a list slice it into a 3 equal chunks and rever each list\n",
    "\n",
    "# For Example: sampleList = [11, 45, 8, 23, 14, 12, 78, 45, 89]\n",
    "\n",
    "# Expected Outcome:\n",
    "\n",
    "# Original list  [11, 45, 8, 23, 14, 12, 78, 45, 89]\n",
    "# Chunk  1 [11, 45, 8]\n",
    "# After reversing it  [8, 45, 11]\n",
    "# Chunk  2 [23, 14, 12]\n",
    "# After reversing it  [12, 14, 23]\n",
    "# Chunk  3 [78, 45, 89]\n",
    "# After reversing it  [89, 45, 78]\n",
    "\n",
    "# My Solution\n",
    "sampleList = [11, 45, 8, 23, 14, 12, 78, 45, 89]\n",
    "length = len(sampleList)\n",
    "first_split = int(length/3)\n",
    "second_split = int(length*2/3)\n",
    "chunk1 = sampleList[:first_split]\n",
    "chunk2 = sampleList[first_split:second_split]\n",
    "chunk3 = sampleList[second_split:length]\n",
    "print(list(reversed(chunk1)))\n",
    "print(chunk2)\n",
    "print(chunk3)"
   ]
  },
  {
   "cell_type": "code",
   "execution_count": 44,
   "metadata": {},
   "outputs": [
    {
     "data": {
      "text/plain": [
       "{11: 2, 45: 3, 8: 1, 23: 2, 89: 1}"
      ]
     },
     "execution_count": 44,
     "metadata": {},
     "output_type": "execute_result"
    }
   ],
   "source": [
    "# Question 194\n",
    "# Given a list iterate it and count the occurrence of each element and create a dictionary to show the count of each element\n",
    "\n",
    "# Expected Output:\n",
    "\n",
    "# Original list  [11, 45, 8, 11, 23, 45, 23, 45, 89]\n",
    "# Printing count of each item   {11: 2, 45: 3, 8: 1, 23: 2, 89: 1}\n",
    "\n",
    "# My Solution\n",
    "def list_count(target):\n",
    "    frequencies = {}\n",
    "    for i in target:\n",
    "        if i in frequencies:\n",
    "            frequencies[i] += 1\n",
    "        else:\n",
    "            frequencies[i] = 1\n",
    "    return frequencies\n",
    "original = [11, 45, 8, 11, 23, 45, 23, 45, 89]\n",
    "list_count(original)"
   ]
  },
  {
   "cell_type": "code",
   "execution_count": 46,
   "metadata": {},
   "outputs": [
    {
     "data": {
      "text/plain": [
       "{(2, 4), (3, 9), (4, 16), (5, 25), (6, 36), (7, 49), (8, 64)}"
      ]
     },
     "execution_count": 46,
     "metadata": {},
     "output_type": "execute_result"
    }
   ],
   "source": [
    "# Question 195\n",
    "# Given a two list of equal size create a set such that it shows the element from both lists in the pair\n",
    "\n",
    "# Expected Output:\n",
    "\n",
    "# First List  [2, 3, 4, 5, 6, 7, 8]\n",
    "# Second List  [4, 9, 16, 25, 36, 49, 64]\n",
    "# Result is  {(6, 36), (8, 64), (4, 16), (5, 25), (3, 9), (7, 49), (2, 4)}\n",
    "\n",
    "# My Solution\n",
    "first = [2, 3, 4, 5, 6, 7, 8]\n",
    "second = [4, 9, 16, 25, 36, 49, 64]\n",
    "result = zip(first,second)\n",
    "set(result)"
   ]
  },
  {
   "cell_type": "code",
   "execution_count": 50,
   "metadata": {},
   "outputs": [
    {
     "data": {
      "text/plain": [
       "{23, 42, 65, 78}"
      ]
     },
     "execution_count": 50,
     "metadata": {},
     "output_type": "execute_result"
    }
   ],
   "source": [
    "# Question 196\n",
    "# Given a following two sets find the intersection and remove those elements from the first set\n",
    "\n",
    "# Expected Output:\n",
    "\n",
    "# First Set  {65, 42, 78, 83, 23, 57, 29}\n",
    "# Second Set  {67, 73, 43, 48, 83, 57, 29}\n",
    "\n",
    "# Intersection is  {57, 83, 29}\n",
    "# First Set after removing common element  {65, 42, 78, 23}\n",
    "\n",
    "# My Solution\n",
    "first = {65, 42, 78, 83, 23, 57, 29}\n",
    "second = {67, 73, 43, 48, 83, 57, 29}\n",
    "intersection = first.intersection(second)\n",
    "result = {x for x in first if x not in intersection}\n",
    "result"
   ]
  },
  {
   "cell_type": "code",
   "execution_count": 6,
   "metadata": {},
   "outputs": [
    {
     "name": "stdout",
     "output_type": "stream",
     "text": [
      "first is subset of second\n"
     ]
    },
    {
     "data": {
      "text/plain": [
       "{22, 48, 53, 93}"
      ]
     },
     "execution_count": 6,
     "metadata": {},
     "output_type": "execute_result"
    }
   ],
   "source": [
    "# Question 197\n",
    "# Given two sets, Checks if One Set is Subset or superset of Another Set. if the subset is found delete all elements from that set\n",
    "\n",
    "# For Example:\n",
    "\n",
    "# firstSet = {27, 43, 34}\n",
    "# secondSet = {34, 93, 22, 27, 43, 53, 48}\n",
    "\n",
    "# Expected Output:\n",
    "\n",
    "# First Set  {57, 83, 29}\n",
    "# Second Set  {67, 73, 43, 48, 83, 57, 29}\n",
    "\n",
    "# First set is subset of second set - True\n",
    "# Second set is subset of First set -  False\n",
    "\n",
    "# First set is Super set of second set -  False\n",
    "# Second set is Super set of First set -  True\n",
    "\n",
    "# First Set  set()\n",
    "# Second Set  {67, 73, 43, 48, 83, 57, 29}\n",
    "\n",
    "# My Solution\n",
    "firstSet = {27, 43, 34}\n",
    "secondSet = {34, 93, 22, 27, 43, 53, 48}\n",
    "def sub_detect(set1, set2):\n",
    "    if firstSet.issubset(secondSet):\n",
    "        print(\"first is subset of second\")\n",
    "        return secondSet - firstSet\n",
    "    elif secondSet.issubset(firstSet):\n",
    "        print(\"second is subset of first\")\n",
    "        return firstSet - secondSet\n",
    "    else:\n",
    "        return \"neither\"\n",
    "sub_detect(firstSet, secondSet)"
   ]
  },
  {
   "cell_type": "code",
   "execution_count": 11,
   "metadata": {},
   "outputs": [
    {
     "data": {
      "text/plain": [
       "'after removing: [47, 69, 76, 95, 97]'"
      ]
     },
     "execution_count": 11,
     "metadata": {},
     "output_type": "execute_result"
    }
   ],
   "source": [
    "# Question 198\n",
    "# Iterate a given list and Check if a given element already exists in a dictionary as a key’s value if not delete it from the list\n",
    "\n",
    "# Given:\n",
    "\n",
    "# rollNumber = [47, 64, 69, 37, 76, 83, 95, 97]\n",
    "# sampleDict ={'Jhon':47, 'Emma':69, 'Kelly':76, 'Jason':97}\n",
    "\n",
    "# Expected Outcome:\n",
    "\n",
    "# after removing unwanted elemnts from list [47, 69, 76, 97]\n",
    "\n",
    "# My Solution\n",
    "def solution(target_list, target_dict):\n",
    "    for i in target_list:\n",
    "        if i not in target_dict.values():\n",
    "            target_list.remove(i)\n",
    "    return \"after removing: \" + str(target_list)\n",
    "\n",
    "rollNumber = [47, 64, 69, 37, 76, 83, 95, 97]\n",
    "sampleDict ={'Jhon':47, 'Emma':69, 'Kelly':76, 'Jason':97}\n",
    "solution(rollNumber, sampleDict)\n"
   ]
  },
  {
   "cell_type": "code",
   "execution_count": 14,
   "metadata": {},
   "outputs": [
    {
     "data": {
      "text/plain": [
       "[44, 47, 52, 53, 54]"
      ]
     },
     "execution_count": 14,
     "metadata": {},
     "output_type": "execute_result"
    }
   ],
   "source": [
    "# Question 199\n",
    "# Given a dictionary get all values from the dictionary and add it in a list but don’t add duplicates\n",
    "\n",
    "# Given:\n",
    "\n",
    "# speed ={'jan':47, 'feb':52, 'march':47, 'April':44, 'May':52, 'June':53, 'july':54, 'Aug':44, 'Sept':54}\n",
    "\n",
    "# Expected Outcome: [47, 52, 44, 53, 54]\n",
    "\n",
    "# My Solution\n",
    "def solution(target):\n",
    "    return list(set(target.values()))\n",
    "speed ={'jan':47, 'feb':52, 'march':47, 'April':44, 'May':52, 'June':53, 'july':54, 'Aug':44, 'Sept':54}      \n",
    "solution(speed)"
   ]
  },
  {
   "cell_type": "code",
   "execution_count": 23,
   "metadata": {},
   "outputs": [
    {
     "data": {
      "text/plain": [
       "99"
      ]
     },
     "execution_count": 23,
     "metadata": {},
     "output_type": "execute_result"
    }
   ],
   "source": [
    "# Question 200\n",
    "# Remove duplicate from a list and create a tuple and find the minimum and maximum number\n",
    "\n",
    "# For Example:\n",
    "\n",
    "# sampleList = [87, 45, 41, 65, 94, 41, 99, 94]\n",
    "\n",
    "# Expected Outcome:\n",
    "\n",
    "# unique items [87, 45, 41, 65, 99]\n",
    "# tuple (87, 45, 41, 65, 99)\n",
    "# min: 41\n",
    "# max: 99\n",
    "\n",
    "# My Solution\n",
    "def solution(target):\n",
    "    return tuple(set(target))\n",
    "sampleList = [87, 45, 41, 65, 94, 41, 99, 94]\n",
    "min(solution(sampleList))\n",
    "max(solution(sampleList))\n"
   ]
  },
  {
   "cell_type": "markdown",
   "metadata": {},
   "source": [
    "### Pynative List exercises\n",
    "https://pynative.com/python-list-exercise-with-solutions/"
   ]
  },
  {
   "cell_type": "code",
   "execution_count": 32,
   "metadata": {},
   "outputs": [
    {
     "data": {
      "text/plain": [
       "[500, 400, 300, 200, 100]"
      ]
     },
     "execution_count": 32,
     "metadata": {},
     "output_type": "execute_result"
    }
   ],
   "source": [
    "# Question 201\n",
    "# Given a Python list you should be able to display Python list in the following order\n",
    "\n",
    "# aLsit = [100, 200, 300, 400, 500]\n",
    "\n",
    "# Expected output:\n",
    "\n",
    "# [500, 400, 300, 200, 100]\n",
    "\n",
    "# My Solution\n",
    "def descending_order(target):\n",
    "    return target.sort()\n",
    "aList = [100, 200, 300, 400, 500]\n",
    "aList.sort(reverse=True)\n",
    "aList"
   ]
  },
  {
   "cell_type": "code",
   "execution_count": 1,
   "metadata": {},
   "outputs": [
    {
     "data": {
      "text/plain": [
       "['My', 'name', 'is', 'Kelly']"
      ]
     },
     "execution_count": 1,
     "metadata": {},
     "output_type": "execute_result"
    }
   ],
   "source": [
    "# Question 202\n",
    "# Exercise Question 2: Concatenate two lists index-wise\n",
    "\n",
    "# list1 = [\"M\", \"na\", \"i\", \"Ke\"] \n",
    "# list2 = [\"y\", \"me\", \"s\", \"lly\"]\n",
    "\n",
    "# Expected output:\n",
    "\n",
    "# ['My', 'name', 'is', 'Kelly']\n",
    "\n",
    "# My Solution\n",
    "\n",
    "list1 = [\"M\", \"na\", \"i\", \"Ke\"] \n",
    "list2 = [\"y\", \"me\", \"s\", \"lly\"]\n",
    "concat_func = lambda x, y: x + y\n",
    "list(map(concat_func, list1, list2))"
   ]
  },
  {
   "cell_type": "code",
   "execution_count": 3,
   "metadata": {},
   "outputs": [
    {
     "data": {
      "text/plain": [
       "[1, 4, 9, 16, 25, 36, 49]"
      ]
     },
     "execution_count": 3,
     "metadata": {},
     "output_type": "execute_result"
    }
   ],
   "source": [
    "# Question 203\n",
    "# Given a Python list. Turn every item of a list into its square\n",
    "\n",
    "# aList = [1, 2, 3, 4, 5, 6, 7]\n",
    "\n",
    "# Expected output:\n",
    "\n",
    "# [1, 4, 9, 16, 25, 36, 49]\n",
    "\n",
    "# My Solution\n",
    "aList = [1, 2, 3, 4, 5, 6, 7]\n",
    "square = lambda x: x * x\n",
    "list(map(square, aList))"
   ]
  },
  {
   "cell_type": "code",
   "execution_count": 5,
   "metadata": {},
   "outputs": [
    {
     "data": {
      "text/plain": [
       "['Hello Dear', 'Hello Sir', 'take Dear', 'take Sir']"
      ]
     },
     "execution_count": 5,
     "metadata": {},
     "output_type": "execute_result"
    }
   ],
   "source": [
    "# Question 204\n",
    "# Concatenate two lists in the following order\n",
    "\n",
    "# list1 = [\"Hello \", \"take \"]\n",
    "# list2 = [\"Dear\", \"Sir\"]\n",
    "\n",
    "# Expected output:\n",
    "\n",
    "# ['Hello Dear', 'Hello Sir', 'take Dear', 'take Sir']\n",
    "\n",
    "# My Solution\n",
    "list1 = [\"Hello \", \"take \"]\n",
    "list2 = [\"Dear\", \"Sir\"]\n",
    "result = [x + y for x in list1 for y in list2]\n",
    "result"
   ]
  },
  {
   "cell_type": "code",
   "execution_count": 14,
   "metadata": {},
   "outputs": [
    {
     "name": "stdout",
     "output_type": "stream",
     "text": [
      "10\n",
      "400\n",
      "20\n",
      "300\n",
      "30\n",
      "200\n",
      "40\n",
      "100\n"
     ]
    }
   ],
   "source": [
    "# Question 205\n",
    "# Given a two Python list. Iterate both lists simultaneously such that list1 should display item in original order and list2 in reverse order\n",
    "\n",
    "# list1 = [10, 20, 30, 40]\n",
    "# list2 = [100, 200, 300, 400]\n",
    "\n",
    "# My Solution\n",
    "list1 = [10, 20, 30, 40]\n",
    "list2 = [100, 200, 300, 400]\n",
    "concatenated = list(zip(list1, reversed(list2)))\n",
    "for i in concatenated:\n",
    "    print(i[0])\n",
    "    print(i[1])"
   ]
  },
  {
   "cell_type": "code",
   "execution_count": 15,
   "metadata": {},
   "outputs": [
    {
     "data": {
      "text/plain": [
       "['Mike', 'Emma', 'Kelly', 'Brad']"
      ]
     },
     "execution_count": 15,
     "metadata": {},
     "output_type": "execute_result"
    }
   ],
   "source": [
    "# Question 206\n",
    "# Remove empty strings from the list of strings\n",
    "\n",
    "# list1 = [\"Mike\", \"\", \"Emma\", \"Kelly\", \"\", \"Brad\"]\n",
    "\n",
    "# Expected output:\n",
    "\n",
    "# [\"Mike\", \"Emma\", \"Kelly\", \"Brad\"]\n",
    "\n",
    "# My Solution\n",
    "list1 = [\"Mike\", \"\", \"Emma\", \"Kelly\", \"\", \"Brad\"]\n",
    "[x for x in list1 if x != \"\"]"
   ]
  }
 ],
 "metadata": {
  "kernelspec": {
   "display_name": "Python 3",
   "language": "python",
   "name": "python3"
  },
  "language_info": {
   "codemirror_mode": {
    "name": "ipython",
    "version": 3
   },
   "file_extension": ".py",
   "mimetype": "text/x-python",
   "name": "python",
   "nbconvert_exporter": "python",
   "pygments_lexer": "ipython3",
   "version": "3.7.4"
  },
  "nteract": {
   "version": "0.15.0"
  }
 },
 "nbformat": 4,
 "nbformat_minor": 2
}
